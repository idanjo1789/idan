{
 "cells": [
  {
   "cell_type": "code",
   "execution_count": 7,
   "id": "f10163f8",
   "metadata": {},
   "outputs": [],
   "source": [
    "import os\n",
    "import json\n",
    "import datetime as dt\n",
    "import pandas as pd\n",
    "import torch\n",
    "import torch.nn as nn\n",
    "from pybit.unified_trading import HTTP"
   ]
  },
  {
   "cell_type": "code",
   "execution_count": 8,
   "id": "edae934b",
   "metadata": {},
   "outputs": [],
   "source": [
    "test = True\n",
    "if test:\n",
    "    api_key = \"z4y2nnrknpHgvEPRtp\"\n",
    "    api_secret = \"tZlx7133h1S0uTpQUfj75W5NVIKPzqaX0yuB\"\n",
    "else:\n",
    "    api_key = \"dBlgdc5AZ29fInzDGE\"\n",
    "    api_secret = \"PMcu1fTICd5jAauLnJEU4biPCKx6PTYeuxxg\"\n",
    "\n",
    "DATA_DIR = \"data\"\n",
    "SAMPLE_PREFIX = \"samples_\"\n",
    "OUTPUT_DIR = os.path.join(\"Data to test the model\")\n",
    "os.makedirs(OUTPUT_DIR, exist_ok=True)\n",
    "session = HTTP(api_key=api_key, api_secret=api_secret, testnet=False)"
   ]
  },
  {
   "cell_type": "code",
   "execution_count": 9,
   "id": "dddec512",
   "metadata": {},
   "outputs": [],
   "source": [
    "class ConvTCNModel(nn.Module):\n",
    "    def __init__(self, num_symbols, num_features, sample_len, future_steps):\n",
    "        super().__init__()\n",
    "        self.extractor = nn.Sequential(\n",
    "            nn.Conv1d(num_features, 32, 3, stride=2, padding=1),\n",
    "            nn.ELU(),\n",
    "            nn.BatchNorm1d(32),\n",
    "            nn.Conv1d(32, 64, 3, stride=2, padding=1),\n",
    "            nn.ELU(),\n",
    "            nn.BatchNorm1d(64),\n",
    "        )\n",
    "        self.seq_len = sample_len // 4\n",
    "        self.tcn = nn.Sequential(\n",
    "            nn.Conv1d(64, 64, 3, padding=1, dilation=1),\n",
    "            nn.ELU(),\n",
    "            nn.BatchNorm1d(64),\n",
    "            nn.Conv1d(64, 64, 3, padding=1, dilation=1),\n",
    "            nn.ELU(),\n",
    "            nn.BatchNorm1d(64),\n",
    "        )\n",
    "        self.pool = nn.AdaptiveAvgPool1d(1)\n",
    "        self.fc   = nn.Sequential(\n",
    "            nn.Linear(64, 128),\n",
    "            nn.ELU(),\n",
    "            nn.LayerNorm(128),\n",
    "            nn.Linear(128, future_steps),\n",
    "        )\n",
    "\n",
    "    def forward(self, x):\n",
    "        B, S, F, L = x.size()\n",
    "        z = x.view(B * S, F, L)\n",
    "        z = self.extractor(z)\n",
    "        z = self.tcn(z)\n",
    "        z = z.view(B, S, 64, self.seq_len).mean(dim=1)\n",
    "        z = self.pool(z).squeeze(-1)\n",
    "        return self.fc(z)\n"
   ]
  },
  {
   "cell_type": "code",
   "execution_count": 10,
   "id": "6bd4e17f",
   "metadata": {},
   "outputs": [],
   "source": [
    "def load_history(directory=\"data\") -> dict[str, pd.DataFrame]:\n",
    "    data = {}\n",
    "    for fn in os.listdir(directory):\n",
    "        if fn.endswith(\"_15m_full.csv\"):\n",
    "            sym = fn.replace(\"_15m_full.csv\", \"\")\n",
    "            df  = pd.read_csv(os.path.join(directory, fn), parse_dates=[\"timestamp\"]).set_index(\"timestamp\")\n",
    "            data[sym] = df\n",
    "    return data"
   ]
  },
  {
   "cell_type": "code",
   "execution_count": 11,
   "id": "e3959ecc",
   "metadata": {},
   "outputs": [],
   "source": [
    "def fetch_new_data(symbol: str, since: dt.datetime) -> pd.DataFrame:\n",
    "    start_ms = int((since + dt.timedelta(seconds=1)).timestamp() * 1000)\n",
    "    end_ms   = int(dt.datetime.utcnow().timestamp() * 1000)\n",
    "    resp = session.get_kline(\n",
    "        category='linear', symbol=symbol,\n",
    "        interval=15, start=start_ms, end=end_ms, limit=1000\n",
    "    ).get(\"result\", {})\n",
    "    lst = resp.get(\"list\", [])\n",
    "    df  = pd.DataFrame(lst, columns=['timestamp','open','high','low','close','volume','turnover'])\n",
    "    if df.empty:\n",
    "        return df\n",
    "    df['timestamp'] = pd.to_datetime(df['timestamp'], unit='ms')\n",
    "    return df.set_index('timestamp')\n"
   ]
  },
  {
   "cell_type": "code",
   "execution_count": 12,
   "id": "f494afe0",
   "metadata": {},
   "outputs": [
    {
     "name": "stdout",
     "output_type": "stream",
     "text": [
      "Init model with sample_len=2500, future_steps=100\n",
      "\n",
      "Processing BTCUSDT: history rows=97410\n",
      "  • Hist slice rows=2500 from 2025-03-28 15:30:00\n"
     ]
    },
    {
     "name": "stderr",
     "output_type": "stream",
     "text": [
      "C:\\Users\\GameReaper\\AppData\\Local\\Temp\\ipykernel_18344\\1874434021.py:12: FutureWarning: The behavior of 'to_datetime' with 'unit' when parsing strings is deprecated. In a future version, strings will be parsed as datetime strings, matching the behavior without a 'unit'. To retain the old behavior, explicitly cast ints or floats to numeric type before calling to_datetime.\n",
      "  df['timestamp'] = pd.to_datetime(df['timestamp'], unit='ms')\n"
     ]
    },
    {
     "name": "stdout",
     "output_type": "stream",
     "text": [
      "  • Combined rows=3500\n",
      "✅ Saved Data to test the model\\BTCUSDT_15m_test.csv\n",
      "\n",
      "Processing LTCUSDT: history rows=97410\n",
      "  • Hist slice rows=2500 from 2025-03-28 15:30:00\n"
     ]
    },
    {
     "name": "stderr",
     "output_type": "stream",
     "text": [
      "C:\\Users\\GameReaper\\AppData\\Local\\Temp\\ipykernel_18344\\1874434021.py:12: FutureWarning: The behavior of 'to_datetime' with 'unit' when parsing strings is deprecated. In a future version, strings will be parsed as datetime strings, matching the behavior without a 'unit'. To retain the old behavior, explicitly cast ints or floats to numeric type before calling to_datetime.\n",
      "  df['timestamp'] = pd.to_datetime(df['timestamp'], unit='ms')\n"
     ]
    },
    {
     "name": "stdout",
     "output_type": "stream",
     "text": [
      "  • Combined rows=3500\n",
      "✅ Saved Data to test the model\\LTCUSDT_15m_test.csv\n",
      "\n",
      "Processing LUNA2USDT: history rows=97410\n",
      "  • Hist slice rows=2500 from 2025-03-28 15:30:00\n"
     ]
    },
    {
     "name": "stderr",
     "output_type": "stream",
     "text": [
      "C:\\Users\\GameReaper\\AppData\\Local\\Temp\\ipykernel_18344\\1874434021.py:12: FutureWarning: The behavior of 'to_datetime' with 'unit' when parsing strings is deprecated. In a future version, strings will be parsed as datetime strings, matching the behavior without a 'unit'. To retain the old behavior, explicitly cast ints or floats to numeric type before calling to_datetime.\n",
      "  df['timestamp'] = pd.to_datetime(df['timestamp'], unit='ms')\n"
     ]
    },
    {
     "name": "stdout",
     "output_type": "stream",
     "text": [
      "  • Combined rows=3500\n",
      "✅ Saved Data to test the model\\LUNA2USDT_15m_test.csv\n",
      "\n",
      "Processing MAGICUSDT: history rows=82791\n",
      "  • Hist slice rows=2500 from 2025-03-28 15:30:00\n"
     ]
    },
    {
     "name": "stderr",
     "output_type": "stream",
     "text": [
      "C:\\Users\\GameReaper\\AppData\\Local\\Temp\\ipykernel_18344\\1874434021.py:12: FutureWarning: The behavior of 'to_datetime' with 'unit' when parsing strings is deprecated. In a future version, strings will be parsed as datetime strings, matching the behavior without a 'unit'. To retain the old behavior, explicitly cast ints or floats to numeric type before calling to_datetime.\n",
      "  df['timestamp'] = pd.to_datetime(df['timestamp'], unit='ms')\n"
     ]
    },
    {
     "name": "stdout",
     "output_type": "stream",
     "text": [
      "  • Combined rows=3500\n",
      "✅ Saved Data to test the model\\MAGICUSDT_15m_test.csv\n",
      "\n",
      "Processing MANAUSDT: history rows=97410\n",
      "  • Hist slice rows=2500 from 2025-03-28 15:30:00\n"
     ]
    },
    {
     "name": "stderr",
     "output_type": "stream",
     "text": [
      "C:\\Users\\GameReaper\\AppData\\Local\\Temp\\ipykernel_18344\\1874434021.py:12: FutureWarning: The behavior of 'to_datetime' with 'unit' when parsing strings is deprecated. In a future version, strings will be parsed as datetime strings, matching the behavior without a 'unit'. To retain the old behavior, explicitly cast ints or floats to numeric type before calling to_datetime.\n",
      "  df['timestamp'] = pd.to_datetime(df['timestamp'], unit='ms')\n"
     ]
    },
    {
     "name": "stdout",
     "output_type": "stream",
     "text": [
      "  • Combined rows=3500\n",
      "✅ Saved Data to test the model\\MANAUSDT_15m_test.csv\n",
      "\n",
      "Processing MASKUSDT: history rows=97231\n",
      "  • Hist slice rows=2500 from 2025-03-26 18:45:00\n"
     ]
    },
    {
     "name": "stderr",
     "output_type": "stream",
     "text": [
      "C:\\Users\\GameReaper\\AppData\\Local\\Temp\\ipykernel_18344\\1874434021.py:12: FutureWarning: The behavior of 'to_datetime' with 'unit' when parsing strings is deprecated. In a future version, strings will be parsed as datetime strings, matching the behavior without a 'unit'. To retain the old behavior, explicitly cast ints or floats to numeric type before calling to_datetime.\n",
      "  df['timestamp'] = pd.to_datetime(df['timestamp'], unit='ms')\n"
     ]
    },
    {
     "name": "stdout",
     "output_type": "stream",
     "text": [
      "  • Combined rows=3500\n",
      "✅ Saved Data to test the model\\MASKUSDT_15m_test.csv\n",
      "\n",
      "Processing MAVUSDT: history rows=63681\n",
      "  • Hist slice rows=2500 from 2025-03-26 18:45:00\n"
     ]
    },
    {
     "name": "stderr",
     "output_type": "stream",
     "text": [
      "C:\\Users\\GameReaper\\AppData\\Local\\Temp\\ipykernel_18344\\1874434021.py:12: FutureWarning: The behavior of 'to_datetime' with 'unit' when parsing strings is deprecated. In a future version, strings will be parsed as datetime strings, matching the behavior without a 'unit'. To retain the old behavior, explicitly cast ints or floats to numeric type before calling to_datetime.\n",
      "  df['timestamp'] = pd.to_datetime(df['timestamp'], unit='ms')\n"
     ]
    },
    {
     "name": "stdout",
     "output_type": "stream",
     "text": [
      "  • Combined rows=3500\n",
      "✅ Saved Data to test the model\\MAVUSDT_15m_test.csv\n",
      "\n",
      "Processing MBLUSDT: history rows=50333\n",
      "  • Hist slice rows=2500 from 2025-03-26 18:45:00\n"
     ]
    },
    {
     "name": "stderr",
     "output_type": "stream",
     "text": [
      "C:\\Users\\GameReaper\\AppData\\Local\\Temp\\ipykernel_18344\\1874434021.py:12: FutureWarning: The behavior of 'to_datetime' with 'unit' when parsing strings is deprecated. In a future version, strings will be parsed as datetime strings, matching the behavior without a 'unit'. To retain the old behavior, explicitly cast ints or floats to numeric type before calling to_datetime.\n",
      "  df['timestamp'] = pd.to_datetime(df['timestamp'], unit='ms')\n"
     ]
    },
    {
     "name": "stdout",
     "output_type": "stream",
     "text": [
      "  • Combined rows=3498\n",
      "✅ Saved Data to test the model\\MBLUSDT_15m_test.csv\n",
      "\n",
      "Processing MDTUSDT: history rows=63492\n",
      "  • Hist slice rows=2500 from 2025-03-26 18:45:00\n"
     ]
    },
    {
     "name": "stderr",
     "output_type": "stream",
     "text": [
      "C:\\Users\\GameReaper\\AppData\\Local\\Temp\\ipykernel_18344\\1874434021.py:12: FutureWarning: The behavior of 'to_datetime' with 'unit' when parsing strings is deprecated. In a future version, strings will be parsed as datetime strings, matching the behavior without a 'unit'. To retain the old behavior, explicitly cast ints or floats to numeric type before calling to_datetime.\n",
      "  df['timestamp'] = pd.to_datetime(df['timestamp'], unit='ms')\n"
     ]
    },
    {
     "name": "stdout",
     "output_type": "stream",
     "text": [
      "  • Combined rows=3500\n",
      "✅ Saved Data to test the model\\MDTUSDT_15m_test.csv\n",
      "\n",
      "Processing MINAUSDT: history rows=97231\n",
      "  • Hist slice rows=2500 from 2025-03-26 18:45:00\n"
     ]
    },
    {
     "name": "stderr",
     "output_type": "stream",
     "text": [
      "C:\\Users\\GameReaper\\AppData\\Local\\Temp\\ipykernel_18344\\1874434021.py:12: FutureWarning: The behavior of 'to_datetime' with 'unit' when parsing strings is deprecated. In a future version, strings will be parsed as datetime strings, matching the behavior without a 'unit'. To retain the old behavior, explicitly cast ints or floats to numeric type before calling to_datetime.\n",
      "  df['timestamp'] = pd.to_datetime(df['timestamp'], unit='ms')\n"
     ]
    },
    {
     "name": "stdout",
     "output_type": "stream",
     "text": [
      "  • Combined rows=3500\n",
      "✅ Saved Data to test the model\\MINAUSDT_15m_test.csv\n",
      "\n",
      "Processing MKRUSDT: history rows=97231\n",
      "  • Hist slice rows=2500 from 2025-03-26 18:45:00\n"
     ]
    },
    {
     "name": "stderr",
     "output_type": "stream",
     "text": [
      "C:\\Users\\GameReaper\\AppData\\Local\\Temp\\ipykernel_18344\\1874434021.py:12: FutureWarning: The behavior of 'to_datetime' with 'unit' when parsing strings is deprecated. In a future version, strings will be parsed as datetime strings, matching the behavior without a 'unit'. To retain the old behavior, explicitly cast ints or floats to numeric type before calling to_datetime.\n",
      "  df['timestamp'] = pd.to_datetime(df['timestamp'], unit='ms')\n"
     ]
    },
    {
     "name": "stdout",
     "output_type": "stream",
     "text": [
      "  • Combined rows=3500\n",
      "✅ Saved Data to test the model\\MKRUSDT_15m_test.csv\n",
      "\n",
      "Processing MTLUSDT: history rows=97231\n",
      "  • Hist slice rows=2500 from 2025-03-26 18:45:00\n"
     ]
    },
    {
     "name": "stderr",
     "output_type": "stream",
     "text": [
      "C:\\Users\\GameReaper\\AppData\\Local\\Temp\\ipykernel_18344\\1874434021.py:12: FutureWarning: The behavior of 'to_datetime' with 'unit' when parsing strings is deprecated. In a future version, strings will be parsed as datetime strings, matching the behavior without a 'unit'. To retain the old behavior, explicitly cast ints or floats to numeric type before calling to_datetime.\n",
      "  df['timestamp'] = pd.to_datetime(df['timestamp'], unit='ms')\n"
     ]
    },
    {
     "name": "stdout",
     "output_type": "stream",
     "text": [
      "  • Combined rows=3500\n",
      "✅ Saved Data to test the model\\MTLUSDT_15m_test.csv\n",
      "\n",
      "Processing NEARUSDT: history rows=97231\n",
      "  • Hist slice rows=2500 from 2025-03-26 18:45:00\n"
     ]
    },
    {
     "name": "stderr",
     "output_type": "stream",
     "text": [
      "C:\\Users\\GameReaper\\AppData\\Local\\Temp\\ipykernel_18344\\1874434021.py:12: FutureWarning: The behavior of 'to_datetime' with 'unit' when parsing strings is deprecated. In a future version, strings will be parsed as datetime strings, matching the behavior without a 'unit'. To retain the old behavior, explicitly cast ints or floats to numeric type before calling to_datetime.\n",
      "  df['timestamp'] = pd.to_datetime(df['timestamp'], unit='ms')\n"
     ]
    },
    {
     "name": "stdout",
     "output_type": "stream",
     "text": [
      "  • Combined rows=3500\n",
      "✅ Saved Data to test the model\\NEARUSDT_15m_test.csv\n",
      "\n",
      "Processing NKNUSDT: history rows=75884\n",
      "  • Hist slice rows=2500 from 2025-03-26 18:45:00\n"
     ]
    },
    {
     "name": "stderr",
     "output_type": "stream",
     "text": [
      "C:\\Users\\GameReaper\\AppData\\Local\\Temp\\ipykernel_18344\\1874434021.py:12: FutureWarning: The behavior of 'to_datetime' with 'unit' when parsing strings is deprecated. In a future version, strings will be parsed as datetime strings, matching the behavior without a 'unit'. To retain the old behavior, explicitly cast ints or floats to numeric type before calling to_datetime.\n",
      "  df['timestamp'] = pd.to_datetime(df['timestamp'], unit='ms')\n"
     ]
    },
    {
     "name": "stdout",
     "output_type": "stream",
     "text": [
      "  • Combined rows=3500\n",
      "✅ Saved Data to test the model\\NKNUSDT_15m_test.csv\n",
      "\n",
      "Processing NMRUSDT: history rows=57171\n",
      "  • Hist slice rows=2500 from 2025-03-26 18:45:00\n"
     ]
    },
    {
     "name": "stderr",
     "output_type": "stream",
     "text": [
      "C:\\Users\\GameReaper\\AppData\\Local\\Temp\\ipykernel_18344\\1874434021.py:12: FutureWarning: The behavior of 'to_datetime' with 'unit' when parsing strings is deprecated. In a future version, strings will be parsed as datetime strings, matching the behavior without a 'unit'. To retain the old behavior, explicitly cast ints or floats to numeric type before calling to_datetime.\n",
      "  df['timestamp'] = pd.to_datetime(df['timestamp'], unit='ms')\n"
     ]
    },
    {
     "name": "stdout",
     "output_type": "stream",
     "text": [
      "  • Combined rows=3500\n",
      "✅ Saved Data to test the model\\NMRUSDT_15m_test.csv\n",
      "\n",
      "Processing OGNUSDT: history rows=97231\n",
      "  • Hist slice rows=2500 from 2025-03-26 18:45:00\n"
     ]
    },
    {
     "name": "stderr",
     "output_type": "stream",
     "text": [
      "C:\\Users\\GameReaper\\AppData\\Local\\Temp\\ipykernel_18344\\1874434021.py:12: FutureWarning: The behavior of 'to_datetime' with 'unit' when parsing strings is deprecated. In a future version, strings will be parsed as datetime strings, matching the behavior without a 'unit'. To retain the old behavior, explicitly cast ints or floats to numeric type before calling to_datetime.\n",
      "  df['timestamp'] = pd.to_datetime(df['timestamp'], unit='ms')\n"
     ]
    },
    {
     "name": "stdout",
     "output_type": "stream",
     "text": [
      "  • Combined rows=3500\n",
      "✅ Saved Data to test the model\\OGNUSDT_15m_test.csv\n",
      "\n",
      "Processing OGUSDT: history rows=57823\n",
      "  • Hist slice rows=2500 from 2025-03-26 18:45:00\n"
     ]
    },
    {
     "name": "stderr",
     "output_type": "stream",
     "text": [
      "C:\\Users\\GameReaper\\AppData\\Local\\Temp\\ipykernel_18344\\1874434021.py:12: FutureWarning: The behavior of 'to_datetime' with 'unit' when parsing strings is deprecated. In a future version, strings will be parsed as datetime strings, matching the behavior without a 'unit'. To retain the old behavior, explicitly cast ints or floats to numeric type before calling to_datetime.\n",
      "  df['timestamp'] = pd.to_datetime(df['timestamp'], unit='ms')\n"
     ]
    },
    {
     "name": "stdout",
     "output_type": "stream",
     "text": [
      "  • Combined rows=3500\n",
      "✅ Saved Data to test the model\\OGUSDT_15m_test.csv\n",
      "\n",
      "Processing OMGUSDT: history rows=97231\n",
      "  • Hist slice rows=2500 from 2025-03-26 18:45:00\n"
     ]
    },
    {
     "name": "stderr",
     "output_type": "stream",
     "text": [
      "C:\\Users\\GameReaper\\AppData\\Local\\Temp\\ipykernel_18344\\1874434021.py:12: FutureWarning: The behavior of 'to_datetime' with 'unit' when parsing strings is deprecated. In a future version, strings will be parsed as datetime strings, matching the behavior without a 'unit'. To retain the old behavior, explicitly cast ints or floats to numeric type before calling to_datetime.\n",
      "  df['timestamp'] = pd.to_datetime(df['timestamp'], unit='ms')\n"
     ]
    },
    {
     "name": "stdout",
     "output_type": "stream",
     "text": [
      "  • Combined rows=3500\n",
      "✅ Saved Data to test the model\\OMGUSDT_15m_test.csv\n",
      "\n",
      "Processing ONEUSDT: history rows=97231\n",
      "  • Hist slice rows=2500 from 2025-03-26 18:45:00\n"
     ]
    },
    {
     "name": "stderr",
     "output_type": "stream",
     "text": [
      "C:\\Users\\GameReaper\\AppData\\Local\\Temp\\ipykernel_18344\\1874434021.py:12: FutureWarning: The behavior of 'to_datetime' with 'unit' when parsing strings is deprecated. In a future version, strings will be parsed as datetime strings, matching the behavior without a 'unit'. To retain the old behavior, explicitly cast ints or floats to numeric type before calling to_datetime.\n",
      "  df['timestamp'] = pd.to_datetime(df['timestamp'], unit='ms')\n"
     ]
    },
    {
     "name": "stdout",
     "output_type": "stream",
     "text": [
      "  • Combined rows=3500\n",
      "✅ Saved Data to test the model\\ONEUSDT_15m_test.csv\n",
      "\n",
      "Processing ONTUSDT: history rows=97231\n",
      "  • Hist slice rows=2500 from 2025-03-26 18:45:00\n"
     ]
    },
    {
     "name": "stderr",
     "output_type": "stream",
     "text": [
      "C:\\Users\\GameReaper\\AppData\\Local\\Temp\\ipykernel_18344\\1874434021.py:12: FutureWarning: The behavior of 'to_datetime' with 'unit' when parsing strings is deprecated. In a future version, strings will be parsed as datetime strings, matching the behavior without a 'unit'. To retain the old behavior, explicitly cast ints or floats to numeric type before calling to_datetime.\n",
      "  df['timestamp'] = pd.to_datetime(df['timestamp'], unit='ms')\n"
     ]
    },
    {
     "name": "stdout",
     "output_type": "stream",
     "text": [
      "  • Combined rows=3500\n",
      "✅ Saved Data to test the model\\ONTUSDT_15m_test.csv\n",
      "\n",
      "Processing OPUSDT: history rows=97231\n",
      "  • Hist slice rows=2500 from 2025-03-26 18:45:00\n"
     ]
    },
    {
     "name": "stderr",
     "output_type": "stream",
     "text": [
      "C:\\Users\\GameReaper\\AppData\\Local\\Temp\\ipykernel_18344\\1874434021.py:12: FutureWarning: The behavior of 'to_datetime' with 'unit' when parsing strings is deprecated. In a future version, strings will be parsed as datetime strings, matching the behavior without a 'unit'. To retain the old behavior, explicitly cast ints or floats to numeric type before calling to_datetime.\n",
      "  df['timestamp'] = pd.to_datetime(df['timestamp'], unit='ms')\n"
     ]
    },
    {
     "name": "stdout",
     "output_type": "stream",
     "text": [
      "  • Combined rows=3500\n",
      "✅ Saved Data to test the model\\OPUSDT_15m_test.csv\n",
      "\n",
      "Processing ORBSUSDT: history rows=53421\n",
      "  • Hist slice rows=2500 from 2025-03-26 18:45:00\n"
     ]
    },
    {
     "name": "stderr",
     "output_type": "stream",
     "text": [
      "C:\\Users\\GameReaper\\AppData\\Local\\Temp\\ipykernel_18344\\1874434021.py:12: FutureWarning: The behavior of 'to_datetime' with 'unit' when parsing strings is deprecated. In a future version, strings will be parsed as datetime strings, matching the behavior without a 'unit'. To retain the old behavior, explicitly cast ints or floats to numeric type before calling to_datetime.\n",
      "  df['timestamp'] = pd.to_datetime(df['timestamp'], unit='ms')\n"
     ]
    },
    {
     "name": "stdout",
     "output_type": "stream",
     "text": [
      "  • Combined rows=3499\n",
      "✅ Saved Data to test the model\\ORBSUSDT_15m_test.csv\n",
      "\n",
      "Processing ORDIUSDT: history rows=67247\n",
      "  • Hist slice rows=2500 from 2025-03-26 18:45:00\n"
     ]
    },
    {
     "name": "stderr",
     "output_type": "stream",
     "text": [
      "C:\\Users\\GameReaper\\AppData\\Local\\Temp\\ipykernel_18344\\1874434021.py:12: FutureWarning: The behavior of 'to_datetime' with 'unit' when parsing strings is deprecated. In a future version, strings will be parsed as datetime strings, matching the behavior without a 'unit'. To retain the old behavior, explicitly cast ints or floats to numeric type before calling to_datetime.\n",
      "  df['timestamp'] = pd.to_datetime(df['timestamp'], unit='ms')\n"
     ]
    },
    {
     "name": "stdout",
     "output_type": "stream",
     "text": [
      "  • Combined rows=3500\n",
      "✅ Saved Data to test the model\\ORDIUSDT_15m_test.csv\n",
      "\n",
      "Processing OXTUSDT: history rows=59567\n",
      "  • Hist slice rows=2500 from 2025-03-26 18:45:00\n"
     ]
    },
    {
     "name": "stderr",
     "output_type": "stream",
     "text": [
      "C:\\Users\\GameReaper\\AppData\\Local\\Temp\\ipykernel_18344\\1874434021.py:12: FutureWarning: The behavior of 'to_datetime' with 'unit' when parsing strings is deprecated. In a future version, strings will be parsed as datetime strings, matching the behavior without a 'unit'. To retain the old behavior, explicitly cast ints or floats to numeric type before calling to_datetime.\n",
      "  df['timestamp'] = pd.to_datetime(df['timestamp'], unit='ms')\n"
     ]
    },
    {
     "name": "stdout",
     "output_type": "stream",
     "text": [
      "  • Combined rows=3500\n",
      "✅ Saved Data to test the model\\OXTUSDT_15m_test.csv\n",
      "\n",
      "Processing PAXGUSDT: history rows=97231\n",
      "  • Hist slice rows=2500 from 2025-03-26 18:45:00\n"
     ]
    },
    {
     "name": "stderr",
     "output_type": "stream",
     "text": [
      "C:\\Users\\GameReaper\\AppData\\Local\\Temp\\ipykernel_18344\\1874434021.py:12: FutureWarning: The behavior of 'to_datetime' with 'unit' when parsing strings is deprecated. In a future version, strings will be parsed as datetime strings, matching the behavior without a 'unit'. To retain the old behavior, explicitly cast ints or floats to numeric type before calling to_datetime.\n",
      "  df['timestamp'] = pd.to_datetime(df['timestamp'], unit='ms')\n"
     ]
    },
    {
     "name": "stdout",
     "output_type": "stream",
     "text": [
      "  • Combined rows=3500\n",
      "✅ Saved Data to test the model\\PAXGUSDT_15m_test.csv\n",
      "\n",
      "Processing PENDLEUSDT: history rows=63013\n",
      "  • Hist slice rows=2500 from 2025-03-26 18:45:00\n"
     ]
    },
    {
     "name": "stderr",
     "output_type": "stream",
     "text": [
      "C:\\Users\\GameReaper\\AppData\\Local\\Temp\\ipykernel_18344\\1874434021.py:12: FutureWarning: The behavior of 'to_datetime' with 'unit' when parsing strings is deprecated. In a future version, strings will be parsed as datetime strings, matching the behavior without a 'unit'. To retain the old behavior, explicitly cast ints or floats to numeric type before calling to_datetime.\n",
      "  df['timestamp'] = pd.to_datetime(df['timestamp'], unit='ms')\n"
     ]
    },
    {
     "name": "stdout",
     "output_type": "stream",
     "text": [
      "  • Combined rows=3500\n",
      "✅ Saved Data to test the model\\PENDLEUSDT_15m_test.csv\n",
      "\n",
      "Processing PEOPLEUSDT: history rows=97231\n",
      "  • Hist slice rows=2500 from 2025-03-26 18:45:00\n"
     ]
    },
    {
     "name": "stderr",
     "output_type": "stream",
     "text": [
      "C:\\Users\\GameReaper\\AppData\\Local\\Temp\\ipykernel_18344\\1874434021.py:12: FutureWarning: The behavior of 'to_datetime' with 'unit' when parsing strings is deprecated. In a future version, strings will be parsed as datetime strings, matching the behavior without a 'unit'. To retain the old behavior, explicitly cast ints or floats to numeric type before calling to_datetime.\n",
      "  df['timestamp'] = pd.to_datetime(df['timestamp'], unit='ms')\n"
     ]
    },
    {
     "name": "stdout",
     "output_type": "stream",
     "text": [
      "  • Combined rows=3500\n",
      "✅ Saved Data to test the model\\PEOPLEUSDT_15m_test.csv\n",
      "\n",
      "Processing PERPUSDT: history rows=56973\n",
      "  • Hist slice rows=2500 from 2025-03-26 18:45:00\n"
     ]
    },
    {
     "name": "stderr",
     "output_type": "stream",
     "text": [
      "C:\\Users\\GameReaper\\AppData\\Local\\Temp\\ipykernel_18344\\1874434021.py:12: FutureWarning: The behavior of 'to_datetime' with 'unit' when parsing strings is deprecated. In a future version, strings will be parsed as datetime strings, matching the behavior without a 'unit'. To retain the old behavior, explicitly cast ints or floats to numeric type before calling to_datetime.\n",
      "  df['timestamp'] = pd.to_datetime(df['timestamp'], unit='ms')\n"
     ]
    },
    {
     "name": "stdout",
     "output_type": "stream",
     "text": [
      "  • Combined rows=3500\n",
      "✅ Saved Data to test the model\\PERPUSDT_15m_test.csv\n",
      "\n",
      "Processing PHBUSDT: history rows=67627\n",
      "  • Hist slice rows=2500 from 2025-03-26 18:45:00\n"
     ]
    },
    {
     "name": "stderr",
     "output_type": "stream",
     "text": [
      "C:\\Users\\GameReaper\\AppData\\Local\\Temp\\ipykernel_18344\\1874434021.py:12: FutureWarning: The behavior of 'to_datetime' with 'unit' when parsing strings is deprecated. In a future version, strings will be parsed as datetime strings, matching the behavior without a 'unit'. To retain the old behavior, explicitly cast ints or floats to numeric type before calling to_datetime.\n",
      "  df['timestamp'] = pd.to_datetime(df['timestamp'], unit='ms')\n"
     ]
    },
    {
     "name": "stdout",
     "output_type": "stream",
     "text": [
      "  • Combined rows=3500\n",
      "✅ Saved Data to test the model\\PHBUSDT_15m_test.csv\n",
      "\n",
      "Processing QNTUSDT: history rows=64554\n",
      "  • Hist slice rows=2500 from 2025-03-26 18:45:00\n"
     ]
    },
    {
     "name": "stderr",
     "output_type": "stream",
     "text": [
      "C:\\Users\\GameReaper\\AppData\\Local\\Temp\\ipykernel_18344\\1874434021.py:12: FutureWarning: The behavior of 'to_datetime' with 'unit' when parsing strings is deprecated. In a future version, strings will be parsed as datetime strings, matching the behavior without a 'unit'. To retain the old behavior, explicitly cast ints or floats to numeric type before calling to_datetime.\n",
      "  df['timestamp'] = pd.to_datetime(df['timestamp'], unit='ms')\n"
     ]
    },
    {
     "name": "stdout",
     "output_type": "stream",
     "text": [
      "  • Combined rows=3500\n",
      "✅ Saved Data to test the model\\QNTUSDT_15m_test.csv\n",
      "\n",
      "Processing QTUMUSDT: history rows=97231\n",
      "  • Hist slice rows=2500 from 2025-03-26 18:45:00\n"
     ]
    },
    {
     "name": "stderr",
     "output_type": "stream",
     "text": [
      "C:\\Users\\GameReaper\\AppData\\Local\\Temp\\ipykernel_18344\\1874434021.py:12: FutureWarning: The behavior of 'to_datetime' with 'unit' when parsing strings is deprecated. In a future version, strings will be parsed as datetime strings, matching the behavior without a 'unit'. To retain the old behavior, explicitly cast ints or floats to numeric type before calling to_datetime.\n",
      "  df['timestamp'] = pd.to_datetime(df['timestamp'], unit='ms')\n"
     ]
    },
    {
     "name": "stdout",
     "output_type": "stream",
     "text": [
      "  • Combined rows=3500\n",
      "✅ Saved Data to test the model\\QTUMUSDT_15m_test.csv\n",
      "\n",
      "Processing RADUSDT: history rows=65609\n",
      "  • Hist slice rows=2500 from 2025-03-26 18:45:00\n"
     ]
    },
    {
     "name": "stderr",
     "output_type": "stream",
     "text": [
      "C:\\Users\\GameReaper\\AppData\\Local\\Temp\\ipykernel_18344\\1874434021.py:12: FutureWarning: The behavior of 'to_datetime' with 'unit' when parsing strings is deprecated. In a future version, strings will be parsed as datetime strings, matching the behavior without a 'unit'. To retain the old behavior, explicitly cast ints or floats to numeric type before calling to_datetime.\n",
      "  df['timestamp'] = pd.to_datetime(df['timestamp'], unit='ms')\n"
     ]
    },
    {
     "name": "stdout",
     "output_type": "stream",
     "text": [
      "  • Combined rows=3500\n",
      "✅ Saved Data to test the model\\RADUSDT_15m_test.csv\n",
      "\n",
      "Processing RDNTUSDT: history rows=70601\n",
      "  • Hist slice rows=2500 from 2025-03-26 18:45:00\n"
     ]
    },
    {
     "name": "stderr",
     "output_type": "stream",
     "text": [
      "C:\\Users\\GameReaper\\AppData\\Local\\Temp\\ipykernel_18344\\1874434021.py:12: FutureWarning: The behavior of 'to_datetime' with 'unit' when parsing strings is deprecated. In a future version, strings will be parsed as datetime strings, matching the behavior without a 'unit'. To retain the old behavior, explicitly cast ints or floats to numeric type before calling to_datetime.\n",
      "  df['timestamp'] = pd.to_datetime(df['timestamp'], unit='ms')\n"
     ]
    },
    {
     "name": "stdout",
     "output_type": "stream",
     "text": [
      "  • Combined rows=3500\n",
      "✅ Saved Data to test the model\\RDNTUSDT_15m_test.csv\n",
      "\n",
      "Processing REQUSDT: history rows=97231\n",
      "  • Hist slice rows=2500 from 2025-03-26 18:45:00\n"
     ]
    },
    {
     "name": "stderr",
     "output_type": "stream",
     "text": [
      "C:\\Users\\GameReaper\\AppData\\Local\\Temp\\ipykernel_18344\\1874434021.py:12: FutureWarning: The behavior of 'to_datetime' with 'unit' when parsing strings is deprecated. In a future version, strings will be parsed as datetime strings, matching the behavior without a 'unit'. To retain the old behavior, explicitly cast ints or floats to numeric type before calling to_datetime.\n",
      "  df['timestamp'] = pd.to_datetime(df['timestamp'], unit='ms')\n"
     ]
    },
    {
     "name": "stdout",
     "output_type": "stream",
     "text": [
      "  • Combined rows=3500\n",
      "✅ Saved Data to test the model\\REQUSDT_15m_test.csv\n",
      "\n",
      "Processing RLCUSDT: history rows=73099\n",
      "  • Hist slice rows=2500 from 2025-03-26 18:45:00\n"
     ]
    },
    {
     "name": "stderr",
     "output_type": "stream",
     "text": [
      "C:\\Users\\GameReaper\\AppData\\Local\\Temp\\ipykernel_18344\\1874434021.py:12: FutureWarning: The behavior of 'to_datetime' with 'unit' when parsing strings is deprecated. In a future version, strings will be parsed as datetime strings, matching the behavior without a 'unit'. To retain the old behavior, explicitly cast ints or floats to numeric type before calling to_datetime.\n",
      "  df['timestamp'] = pd.to_datetime(df['timestamp'], unit='ms')\n"
     ]
    },
    {
     "name": "stdout",
     "output_type": "stream",
     "text": [
      "  • Combined rows=3500\n",
      "✅ Saved Data to test the model\\RLCUSDT_15m_test.csv\n",
      "\n",
      "Processing ROSEUSDT: history rows=97231\n",
      "  • Hist slice rows=2500 from 2025-03-26 18:45:00\n"
     ]
    },
    {
     "name": "stderr",
     "output_type": "stream",
     "text": [
      "C:\\Users\\GameReaper\\AppData\\Local\\Temp\\ipykernel_18344\\1874434021.py:12: FutureWarning: The behavior of 'to_datetime' with 'unit' when parsing strings is deprecated. In a future version, strings will be parsed as datetime strings, matching the behavior without a 'unit'. To retain the old behavior, explicitly cast ints or floats to numeric type before calling to_datetime.\n",
      "  df['timestamp'] = pd.to_datetime(df['timestamp'], unit='ms')\n"
     ]
    },
    {
     "name": "stdout",
     "output_type": "stream",
     "text": [
      "  • Combined rows=3500\n",
      "✅ Saved Data to test the model\\ROSEUSDT_15m_test.csv\n",
      "\n",
      "Processing RPLUSDT: history rows=75110\n",
      "  • Hist slice rows=2500 from 2025-03-26 18:45:00\n"
     ]
    },
    {
     "name": "stderr",
     "output_type": "stream",
     "text": [
      "C:\\Users\\GameReaper\\AppData\\Local\\Temp\\ipykernel_18344\\1874434021.py:12: FutureWarning: The behavior of 'to_datetime' with 'unit' when parsing strings is deprecated. In a future version, strings will be parsed as datetime strings, matching the behavior without a 'unit'. To retain the old behavior, explicitly cast ints or floats to numeric type before calling to_datetime.\n",
      "  df['timestamp'] = pd.to_datetime(df['timestamp'], unit='ms')\n"
     ]
    },
    {
     "name": "stdout",
     "output_type": "stream",
     "text": [
      "  • Combined rows=3500\n",
      "✅ Saved Data to test the model\\RPLUSDT_15m_test.csv\n",
      "\n",
      "Processing RSRUSDT: history rows=97231\n",
      "  • Hist slice rows=2500 from 2025-03-26 18:45:00\n"
     ]
    },
    {
     "name": "stderr",
     "output_type": "stream",
     "text": [
      "C:\\Users\\GameReaper\\AppData\\Local\\Temp\\ipykernel_18344\\1874434021.py:12: FutureWarning: The behavior of 'to_datetime' with 'unit' when parsing strings is deprecated. In a future version, strings will be parsed as datetime strings, matching the behavior without a 'unit'. To retain the old behavior, explicitly cast ints or floats to numeric type before calling to_datetime.\n",
      "  df['timestamp'] = pd.to_datetime(df['timestamp'], unit='ms')\n"
     ]
    },
    {
     "name": "stdout",
     "output_type": "stream",
     "text": [
      "  • Combined rows=3500\n",
      "✅ Saved Data to test the model\\RSRUSDT_15m_test.csv\n",
      "\n",
      "Processing RSS3USDT: history rows=97231\n",
      "  • Hist slice rows=2500 from 2025-03-26 18:45:00\n"
     ]
    },
    {
     "name": "stderr",
     "output_type": "stream",
     "text": [
      "C:\\Users\\GameReaper\\AppData\\Local\\Temp\\ipykernel_18344\\1874434021.py:12: FutureWarning: The behavior of 'to_datetime' with 'unit' when parsing strings is deprecated. In a future version, strings will be parsed as datetime strings, matching the behavior without a 'unit'. To retain the old behavior, explicitly cast ints or floats to numeric type before calling to_datetime.\n",
      "  df['timestamp'] = pd.to_datetime(df['timestamp'], unit='ms')\n"
     ]
    },
    {
     "name": "stdout",
     "output_type": "stream",
     "text": [
      "  • Combined rows=3500\n",
      "✅ Saved Data to test the model\\RSS3USDT_15m_test.csv\n",
      "\n",
      "Processing RUNEUSDT: history rows=97231\n",
      "  • Hist slice rows=2500 from 2025-03-26 18:45:00\n"
     ]
    },
    {
     "name": "stderr",
     "output_type": "stream",
     "text": [
      "C:\\Users\\GameReaper\\AppData\\Local\\Temp\\ipykernel_18344\\1874434021.py:12: FutureWarning: The behavior of 'to_datetime' with 'unit' when parsing strings is deprecated. In a future version, strings will be parsed as datetime strings, matching the behavior without a 'unit'. To retain the old behavior, explicitly cast ints or floats to numeric type before calling to_datetime.\n",
      "  df['timestamp'] = pd.to_datetime(df['timestamp'], unit='ms')\n"
     ]
    },
    {
     "name": "stdout",
     "output_type": "stream",
     "text": [
      "  • Combined rows=3500\n",
      "✅ Saved Data to test the model\\RUNEUSDT_15m_test.csv\n",
      "\n",
      "Processing RVNUSDT: history rows=97231\n",
      "  • Hist slice rows=2500 from 2025-03-26 18:45:00\n"
     ]
    },
    {
     "name": "stderr",
     "output_type": "stream",
     "text": [
      "C:\\Users\\GameReaper\\AppData\\Local\\Temp\\ipykernel_18344\\1874434021.py:12: FutureWarning: The behavior of 'to_datetime' with 'unit' when parsing strings is deprecated. In a future version, strings will be parsed as datetime strings, matching the behavior without a 'unit'. To retain the old behavior, explicitly cast ints or floats to numeric type before calling to_datetime.\n",
      "  df['timestamp'] = pd.to_datetime(df['timestamp'], unit='ms')\n"
     ]
    },
    {
     "name": "stdout",
     "output_type": "stream",
     "text": [
      "  • Combined rows=3500\n",
      "✅ Saved Data to test the model\\RVNUSDT_15m_test.csv\n",
      "\n",
      "Processing SANDUSDT: history rows=97231\n",
      "  • Hist slice rows=2500 from 2025-03-26 18:45:00\n"
     ]
    },
    {
     "name": "stderr",
     "output_type": "stream",
     "text": [
      "C:\\Users\\GameReaper\\AppData\\Local\\Temp\\ipykernel_18344\\1874434021.py:12: FutureWarning: The behavior of 'to_datetime' with 'unit' when parsing strings is deprecated. In a future version, strings will be parsed as datetime strings, matching the behavior without a 'unit'. To retain the old behavior, explicitly cast ints or floats to numeric type before calling to_datetime.\n",
      "  df['timestamp'] = pd.to_datetime(df['timestamp'], unit='ms')\n"
     ]
    },
    {
     "name": "stdout",
     "output_type": "stream",
     "text": [
      "  • Combined rows=3500\n",
      "✅ Saved Data to test the model\\SANDUSDT_15m_test.csv\n",
      "\n",
      "Processing SCRTUSDT: history rows=97231\n",
      "  • Hist slice rows=2500 from 2025-03-26 18:45:00\n"
     ]
    },
    {
     "name": "stderr",
     "output_type": "stream",
     "text": [
      "C:\\Users\\GameReaper\\AppData\\Local\\Temp\\ipykernel_18344\\1874434021.py:12: FutureWarning: The behavior of 'to_datetime' with 'unit' when parsing strings is deprecated. In a future version, strings will be parsed as datetime strings, matching the behavior without a 'unit'. To retain the old behavior, explicitly cast ints or floats to numeric type before calling to_datetime.\n",
      "  df['timestamp'] = pd.to_datetime(df['timestamp'], unit='ms')\n"
     ]
    },
    {
     "name": "stdout",
     "output_type": "stream",
     "text": [
      "  • Combined rows=3500\n",
      "✅ Saved Data to test the model\\SCRTUSDT_15m_test.csv\n",
      "\n",
      "Processing SCUSDT: history rows=97231\n",
      "  • Hist slice rows=2500 from 2025-03-26 18:45:00\n"
     ]
    },
    {
     "name": "stderr",
     "output_type": "stream",
     "text": [
      "C:\\Users\\GameReaper\\AppData\\Local\\Temp\\ipykernel_18344\\1874434021.py:12: FutureWarning: The behavior of 'to_datetime' with 'unit' when parsing strings is deprecated. In a future version, strings will be parsed as datetime strings, matching the behavior without a 'unit'. To retain the old behavior, explicitly cast ints or floats to numeric type before calling to_datetime.\n",
      "  df['timestamp'] = pd.to_datetime(df['timestamp'], unit='ms')\n"
     ]
    },
    {
     "name": "stdout",
     "output_type": "stream",
     "text": [
      "  • Combined rows=3500\n",
      "✅ Saved Data to test the model\\SCUSDT_15m_test.csv\n",
      "\n",
      "Processing SEIUSDT: history rows=59004\n",
      "  • Hist slice rows=2500 from 2025-03-26 18:45:00\n"
     ]
    },
    {
     "name": "stderr",
     "output_type": "stream",
     "text": [
      "C:\\Users\\GameReaper\\AppData\\Local\\Temp\\ipykernel_18344\\1874434021.py:12: FutureWarning: The behavior of 'to_datetime' with 'unit' when parsing strings is deprecated. In a future version, strings will be parsed as datetime strings, matching the behavior without a 'unit'. To retain the old behavior, explicitly cast ints or floats to numeric type before calling to_datetime.\n",
      "  df['timestamp'] = pd.to_datetime(df['timestamp'], unit='ms')\n"
     ]
    },
    {
     "name": "stdout",
     "output_type": "stream",
     "text": [
      "  • Combined rows=3500\n",
      "✅ Saved Data to test the model\\SEIUSDT_15m_test.csv\n",
      "\n",
      "Processing SFPUSDT: history rows=97231\n",
      "  • Hist slice rows=2500 from 2025-03-26 18:45:00\n"
     ]
    },
    {
     "name": "stderr",
     "output_type": "stream",
     "text": [
      "C:\\Users\\GameReaper\\AppData\\Local\\Temp\\ipykernel_18344\\1874434021.py:12: FutureWarning: The behavior of 'to_datetime' with 'unit' when parsing strings is deprecated. In a future version, strings will be parsed as datetime strings, matching the behavior without a 'unit'. To retain the old behavior, explicitly cast ints or floats to numeric type before calling to_datetime.\n",
      "  df['timestamp'] = pd.to_datetime(df['timestamp'], unit='ms')\n"
     ]
    },
    {
     "name": "stdout",
     "output_type": "stream",
     "text": [
      "  • Combined rows=3500\n",
      "✅ Saved Data to test the model\\SFPUSDT_15m_test.csv\n",
      "\n",
      "Processing SHIB1000USDT: history rows=97231\n",
      "  • Hist slice rows=2500 from 2025-03-26 18:45:00\n"
     ]
    },
    {
     "name": "stderr",
     "output_type": "stream",
     "text": [
      "C:\\Users\\GameReaper\\AppData\\Local\\Temp\\ipykernel_18344\\1874434021.py:12: FutureWarning: The behavior of 'to_datetime' with 'unit' when parsing strings is deprecated. In a future version, strings will be parsed as datetime strings, matching the behavior without a 'unit'. To retain the old behavior, explicitly cast ints or floats to numeric type before calling to_datetime.\n",
      "  df['timestamp'] = pd.to_datetime(df['timestamp'], unit='ms')\n"
     ]
    },
    {
     "name": "stdout",
     "output_type": "stream",
     "text": [
      "  • Combined rows=3500\n",
      "✅ Saved Data to test the model\\SHIB1000USDT_15m_test.csv\n",
      "\n",
      "Processing SKLUSDT: history rows=97231\n",
      "  • Hist slice rows=2500 from 2025-03-26 18:45:00\n"
     ]
    },
    {
     "name": "stderr",
     "output_type": "stream",
     "text": [
      "C:\\Users\\GameReaper\\AppData\\Local\\Temp\\ipykernel_18344\\1874434021.py:12: FutureWarning: The behavior of 'to_datetime' with 'unit' when parsing strings is deprecated. In a future version, strings will be parsed as datetime strings, matching the behavior without a 'unit'. To retain the old behavior, explicitly cast ints or floats to numeric type before calling to_datetime.\n",
      "  df['timestamp'] = pd.to_datetime(df['timestamp'], unit='ms')\n"
     ]
    },
    {
     "name": "stdout",
     "output_type": "stream",
     "text": [
      "  • Combined rows=3500\n",
      "✅ Saved Data to test the model\\SKLUSDT_15m_test.csv\n",
      "\n",
      "Processing SLPUSDT: history rows=97231\n",
      "  • Hist slice rows=2500 from 2025-03-26 18:45:00\n"
     ]
    },
    {
     "name": "stderr",
     "output_type": "stream",
     "text": [
      "C:\\Users\\GameReaper\\AppData\\Local\\Temp\\ipykernel_18344\\1874434021.py:12: FutureWarning: The behavior of 'to_datetime' with 'unit' when parsing strings is deprecated. In a future version, strings will be parsed as datetime strings, matching the behavior without a 'unit'. To retain the old behavior, explicitly cast ints or floats to numeric type before calling to_datetime.\n",
      "  df['timestamp'] = pd.to_datetime(df['timestamp'], unit='ms')\n"
     ]
    },
    {
     "name": "stdout",
     "output_type": "stream",
     "text": [
      "  • Combined rows=3500\n",
      "✅ Saved Data to test the model\\SLPUSDT_15m_test.csv\n",
      "\n",
      "Processing SPELLUSDT: history rows=97231\n",
      "  • Hist slice rows=2500 from 2025-03-26 18:45:00\n"
     ]
    },
    {
     "name": "stderr",
     "output_type": "stream",
     "text": [
      "C:\\Users\\GameReaper\\AppData\\Local\\Temp\\ipykernel_18344\\1874434021.py:12: FutureWarning: The behavior of 'to_datetime' with 'unit' when parsing strings is deprecated. In a future version, strings will be parsed as datetime strings, matching the behavior without a 'unit'. To retain the old behavior, explicitly cast ints or floats to numeric type before calling to_datetime.\n",
      "  df['timestamp'] = pd.to_datetime(df['timestamp'], unit='ms')\n"
     ]
    },
    {
     "name": "stdout",
     "output_type": "stream",
     "text": [
      "  • Combined rows=3500\n",
      "✅ Saved Data to test the model\\SPELLUSDT_15m_test.csv\n",
      "\n",
      "Processing SSVUSDT: history rows=75110\n",
      "  • Hist slice rows=2500 from 2025-03-26 18:45:00\n"
     ]
    },
    {
     "name": "stderr",
     "output_type": "stream",
     "text": [
      "C:\\Users\\GameReaper\\AppData\\Local\\Temp\\ipykernel_18344\\1874434021.py:12: FutureWarning: The behavior of 'to_datetime' with 'unit' when parsing strings is deprecated. In a future version, strings will be parsed as datetime strings, matching the behavior without a 'unit'. To retain the old behavior, explicitly cast ints or floats to numeric type before calling to_datetime.\n",
      "  df['timestamp'] = pd.to_datetime(df['timestamp'], unit='ms')\n"
     ]
    },
    {
     "name": "stdout",
     "output_type": "stream",
     "text": [
      "  • Combined rows=3500\n",
      "✅ Saved Data to test the model\\SSVUSDT_15m_test.csv\n",
      "\n",
      "Processing STGUSDT: history rows=93069\n",
      "  • Hist slice rows=2500 from 2025-03-26 18:45:00\n"
     ]
    },
    {
     "name": "stderr",
     "output_type": "stream",
     "text": [
      "C:\\Users\\GameReaper\\AppData\\Local\\Temp\\ipykernel_18344\\1874434021.py:12: FutureWarning: The behavior of 'to_datetime' with 'unit' when parsing strings is deprecated. In a future version, strings will be parsed as datetime strings, matching the behavior without a 'unit'. To retain the old behavior, explicitly cast ints or floats to numeric type before calling to_datetime.\n",
      "  df['timestamp'] = pd.to_datetime(df['timestamp'], unit='ms')\n"
     ]
    },
    {
     "name": "stdout",
     "output_type": "stream",
     "text": [
      "  • Combined rows=3500\n",
      "✅ Saved Data to test the model\\STGUSDT_15m_test.csv\n",
      "\n",
      "Processing STORJUSDT: history rows=97231\n",
      "  • Hist slice rows=2500 from 2025-03-26 18:45:00\n"
     ]
    },
    {
     "name": "stderr",
     "output_type": "stream",
     "text": [
      "C:\\Users\\GameReaper\\AppData\\Local\\Temp\\ipykernel_18344\\1874434021.py:12: FutureWarning: The behavior of 'to_datetime' with 'unit' when parsing strings is deprecated. In a future version, strings will be parsed as datetime strings, matching the behavior without a 'unit'. To retain the old behavior, explicitly cast ints or floats to numeric type before calling to_datetime.\n",
      "  df['timestamp'] = pd.to_datetime(df['timestamp'], unit='ms')\n"
     ]
    },
    {
     "name": "stdout",
     "output_type": "stream",
     "text": [
      "  • Combined rows=3500\n",
      "✅ Saved Data to test the model\\STORJUSDT_15m_test.csv\n",
      "\n",
      "Processing STPTUSDT: history rows=54276\n",
      "  • Hist slice rows=2500 from 2025-03-26 18:45:00\n"
     ]
    },
    {
     "name": "stderr",
     "output_type": "stream",
     "text": [
      "C:\\Users\\GameReaper\\AppData\\Local\\Temp\\ipykernel_18344\\1874434021.py:12: FutureWarning: The behavior of 'to_datetime' with 'unit' when parsing strings is deprecated. In a future version, strings will be parsed as datetime strings, matching the behavior without a 'unit'. To retain the old behavior, explicitly cast ints or floats to numeric type before calling to_datetime.\n",
      "  df['timestamp'] = pd.to_datetime(df['timestamp'], unit='ms')\n"
     ]
    },
    {
     "name": "stdout",
     "output_type": "stream",
     "text": [
      "  • Combined rows=3500\n",
      "✅ Saved Data to test the model\\STPTUSDT_15m_test.csv\n",
      "\n",
      "Processing STXUSDT: history rows=97231\n",
      "  • Hist slice rows=2500 from 2025-03-26 18:45:00\n"
     ]
    },
    {
     "name": "stderr",
     "output_type": "stream",
     "text": [
      "C:\\Users\\GameReaper\\AppData\\Local\\Temp\\ipykernel_18344\\1874434021.py:12: FutureWarning: The behavior of 'to_datetime' with 'unit' when parsing strings is deprecated. In a future version, strings will be parsed as datetime strings, matching the behavior without a 'unit'. To retain the old behavior, explicitly cast ints or floats to numeric type before calling to_datetime.\n",
      "  df['timestamp'] = pd.to_datetime(df['timestamp'], unit='ms')\n"
     ]
    },
    {
     "name": "stdout",
     "output_type": "stream",
     "text": [
      "  • Combined rows=3500\n",
      "✅ Saved Data to test the model\\STXUSDT_15m_test.csv\n",
      "\n",
      "Processing SUIUSDT: history rows=69049\n",
      "  • Hist slice rows=2500 from 2025-03-26 18:45:00\n"
     ]
    },
    {
     "name": "stderr",
     "output_type": "stream",
     "text": [
      "C:\\Users\\GameReaper\\AppData\\Local\\Temp\\ipykernel_18344\\1874434021.py:12: FutureWarning: The behavior of 'to_datetime' with 'unit' when parsing strings is deprecated. In a future version, strings will be parsed as datetime strings, matching the behavior without a 'unit'. To retain the old behavior, explicitly cast ints or floats to numeric type before calling to_datetime.\n",
      "  df['timestamp'] = pd.to_datetime(df['timestamp'], unit='ms')\n"
     ]
    },
    {
     "name": "stdout",
     "output_type": "stream",
     "text": [
      "  • Combined rows=3500\n",
      "✅ Saved Data to test the model\\SUIUSDT_15m_test.csv\n",
      "\n",
      "Processing SUNUSDT: history rows=97231\n",
      "  • Hist slice rows=2500 from 2025-03-26 18:45:00\n"
     ]
    },
    {
     "name": "stderr",
     "output_type": "stream",
     "text": [
      "C:\\Users\\GameReaper\\AppData\\Local\\Temp\\ipykernel_18344\\1874434021.py:12: FutureWarning: The behavior of 'to_datetime' with 'unit' when parsing strings is deprecated. In a future version, strings will be parsed as datetime strings, matching the behavior without a 'unit'. To retain the old behavior, explicitly cast ints or floats to numeric type before calling to_datetime.\n",
      "  df['timestamp'] = pd.to_datetime(df['timestamp'], unit='ms')\n"
     ]
    },
    {
     "name": "stdout",
     "output_type": "stream",
     "text": [
      "  • Combined rows=3500\n",
      "✅ Saved Data to test the model\\SUNUSDT_15m_test.csv\n",
      "\n",
      "Processing SUSHIUSDT: history rows=97231\n",
      "  • Hist slice rows=2500 from 2025-03-26 18:45:00\n"
     ]
    },
    {
     "name": "stderr",
     "output_type": "stream",
     "text": [
      "C:\\Users\\GameReaper\\AppData\\Local\\Temp\\ipykernel_18344\\1874434021.py:12: FutureWarning: The behavior of 'to_datetime' with 'unit' when parsing strings is deprecated. In a future version, strings will be parsed as datetime strings, matching the behavior without a 'unit'. To retain the old behavior, explicitly cast ints or floats to numeric type before calling to_datetime.\n",
      "  df['timestamp'] = pd.to_datetime(df['timestamp'], unit='ms')\n"
     ]
    },
    {
     "name": "stdout",
     "output_type": "stream",
     "text": [
      "  • Combined rows=3500\n",
      "✅ Saved Data to test the model\\SUSHIUSDT_15m_test.csv\n",
      "\n",
      "Processing SWEATUSDT: history rows=86356\n",
      "  • Hist slice rows=2500 from 2025-03-26 18:45:00\n"
     ]
    },
    {
     "name": "stderr",
     "output_type": "stream",
     "text": [
      "C:\\Users\\GameReaper\\AppData\\Local\\Temp\\ipykernel_18344\\1874434021.py:12: FutureWarning: The behavior of 'to_datetime' with 'unit' when parsing strings is deprecated. In a future version, strings will be parsed as datetime strings, matching the behavior without a 'unit'. To retain the old behavior, explicitly cast ints or floats to numeric type before calling to_datetime.\n",
      "  df['timestamp'] = pd.to_datetime(df['timestamp'], unit='ms')\n"
     ]
    },
    {
     "name": "stdout",
     "output_type": "stream",
     "text": [
      "  • Combined rows=3500\n",
      "✅ Saved Data to test the model\\SWEATUSDT_15m_test.csv\n",
      "\n",
      "Processing SXPUSDT: history rows=97231\n",
      "  • Hist slice rows=2500 from 2025-03-26 18:45:00\n"
     ]
    },
    {
     "name": "stderr",
     "output_type": "stream",
     "text": [
      "C:\\Users\\GameReaper\\AppData\\Local\\Temp\\ipykernel_18344\\1874434021.py:12: FutureWarning: The behavior of 'to_datetime' with 'unit' when parsing strings is deprecated. In a future version, strings will be parsed as datetime strings, matching the behavior without a 'unit'. To retain the old behavior, explicitly cast ints or floats to numeric type before calling to_datetime.\n",
      "  df['timestamp'] = pd.to_datetime(df['timestamp'], unit='ms')\n"
     ]
    },
    {
     "name": "stdout",
     "output_type": "stream",
     "text": [
      "  • Combined rows=3500\n",
      "✅ Saved Data to test the model\\SXPUSDT_15m_test.csv\n",
      "\n",
      "Processing THETAUSDT: history rows=97231\n",
      "  • Hist slice rows=2500 from 2025-03-26 18:45:00\n"
     ]
    },
    {
     "name": "stderr",
     "output_type": "stream",
     "text": [
      "C:\\Users\\GameReaper\\AppData\\Local\\Temp\\ipykernel_18344\\1874434021.py:12: FutureWarning: The behavior of 'to_datetime' with 'unit' when parsing strings is deprecated. In a future version, strings will be parsed as datetime strings, matching the behavior without a 'unit'. To retain the old behavior, explicitly cast ints or floats to numeric type before calling to_datetime.\n",
      "  df['timestamp'] = pd.to_datetime(df['timestamp'], unit='ms')\n"
     ]
    },
    {
     "name": "stdout",
     "output_type": "stream",
     "text": [
      "  • Combined rows=3500\n",
      "✅ Saved Data to test the model\\THETAUSDT_15m_test.csv\n",
      "\n",
      "Processing TLMUSDT: history rows=97231\n",
      "  • Hist slice rows=2500 from 2025-03-26 18:45:00\n"
     ]
    },
    {
     "name": "stderr",
     "output_type": "stream",
     "text": [
      "C:\\Users\\GameReaper\\AppData\\Local\\Temp\\ipykernel_18344\\1874434021.py:12: FutureWarning: The behavior of 'to_datetime' with 'unit' when parsing strings is deprecated. In a future version, strings will be parsed as datetime strings, matching the behavior without a 'unit'. To retain the old behavior, explicitly cast ints or floats to numeric type before calling to_datetime.\n",
      "  df['timestamp'] = pd.to_datetime(df['timestamp'], unit='ms')\n"
     ]
    },
    {
     "name": "stdout",
     "output_type": "stream",
     "text": [
      "  • Combined rows=3500\n",
      "✅ Saved Data to test the model\\TLMUSDT_15m_test.csv\n",
      "\n",
      "Processing TONUSDT: history rows=57553\n",
      "  • Hist slice rows=2500 from 2025-03-26 18:45:00\n"
     ]
    },
    {
     "name": "stderr",
     "output_type": "stream",
     "text": [
      "C:\\Users\\GameReaper\\AppData\\Local\\Temp\\ipykernel_18344\\1874434021.py:12: FutureWarning: The behavior of 'to_datetime' with 'unit' when parsing strings is deprecated. In a future version, strings will be parsed as datetime strings, matching the behavior without a 'unit'. To retain the old behavior, explicitly cast ints or floats to numeric type before calling to_datetime.\n",
      "  df['timestamp'] = pd.to_datetime(df['timestamp'], unit='ms')\n"
     ]
    },
    {
     "name": "stdout",
     "output_type": "stream",
     "text": [
      "  • Combined rows=3500\n",
      "✅ Saved Data to test the model\\TONUSDT_15m_test.csv\n",
      "\n",
      "Processing TRBUSDT: history rows=97231\n",
      "  • Hist slice rows=2500 from 2025-03-26 18:45:00\n"
     ]
    },
    {
     "name": "stderr",
     "output_type": "stream",
     "text": [
      "C:\\Users\\GameReaper\\AppData\\Local\\Temp\\ipykernel_18344\\1874434021.py:12: FutureWarning: The behavior of 'to_datetime' with 'unit' when parsing strings is deprecated. In a future version, strings will be parsed as datetime strings, matching the behavior without a 'unit'. To retain the old behavior, explicitly cast ints or floats to numeric type before calling to_datetime.\n",
      "  df['timestamp'] = pd.to_datetime(df['timestamp'], unit='ms')\n"
     ]
    },
    {
     "name": "stdout",
     "output_type": "stream",
     "text": [
      "  • Combined rows=3500\n",
      "✅ Saved Data to test the model\\TRBUSDT_15m_test.csv\n",
      "\n",
      "Processing TRUUSDT: history rows=74349\n",
      "  • Hist slice rows=2500 from 2025-03-26 18:45:00\n"
     ]
    },
    {
     "name": "stderr",
     "output_type": "stream",
     "text": [
      "C:\\Users\\GameReaper\\AppData\\Local\\Temp\\ipykernel_18344\\1874434021.py:12: FutureWarning: The behavior of 'to_datetime' with 'unit' when parsing strings is deprecated. In a future version, strings will be parsed as datetime strings, matching the behavior without a 'unit'. To retain the old behavior, explicitly cast ints or floats to numeric type before calling to_datetime.\n",
      "  df['timestamp'] = pd.to_datetime(df['timestamp'], unit='ms')\n"
     ]
    },
    {
     "name": "stdout",
     "output_type": "stream",
     "text": [
      "  • Combined rows=3500\n",
      "✅ Saved Data to test the model\\TRUUSDT_15m_test.csv\n",
      "\n",
      "Processing TRXUSDT: history rows=97231\n",
      "  • Hist slice rows=2500 from 2025-03-26 18:45:00\n"
     ]
    },
    {
     "name": "stderr",
     "output_type": "stream",
     "text": [
      "C:\\Users\\GameReaper\\AppData\\Local\\Temp\\ipykernel_18344\\1874434021.py:12: FutureWarning: The behavior of 'to_datetime' with 'unit' when parsing strings is deprecated. In a future version, strings will be parsed as datetime strings, matching the behavior without a 'unit'. To retain the old behavior, explicitly cast ints or floats to numeric type before calling to_datetime.\n",
      "  df['timestamp'] = pd.to_datetime(df['timestamp'], unit='ms')\n"
     ]
    },
    {
     "name": "stdout",
     "output_type": "stream",
     "text": [
      "  • Combined rows=3500\n",
      "✅ Saved Data to test the model\\TRXUSDT_15m_test.csv\n",
      "\n",
      "Processing TUSDT: history rows=74631\n",
      "  • Hist slice rows=2500 from 2025-03-26 18:45:00\n"
     ]
    },
    {
     "name": "stderr",
     "output_type": "stream",
     "text": [
      "C:\\Users\\GameReaper\\AppData\\Local\\Temp\\ipykernel_18344\\1874434021.py:12: FutureWarning: The behavior of 'to_datetime' with 'unit' when parsing strings is deprecated. In a future version, strings will be parsed as datetime strings, matching the behavior without a 'unit'. To retain the old behavior, explicitly cast ints or floats to numeric type before calling to_datetime.\n",
      "  df['timestamp'] = pd.to_datetime(df['timestamp'], unit='ms')\n"
     ]
    },
    {
     "name": "stdout",
     "output_type": "stream",
     "text": [
      "  • Combined rows=3500\n",
      "✅ Saved Data to test the model\\TUSDT_15m_test.csv\n",
      "\n",
      "Processing TWTUSDT: history rows=85023\n",
      "  • Hist slice rows=2500 from 2025-03-26 18:45:00\n"
     ]
    },
    {
     "name": "stderr",
     "output_type": "stream",
     "text": [
      "C:\\Users\\GameReaper\\AppData\\Local\\Temp\\ipykernel_18344\\1874434021.py:12: FutureWarning: The behavior of 'to_datetime' with 'unit' when parsing strings is deprecated. In a future version, strings will be parsed as datetime strings, matching the behavior without a 'unit'. To retain the old behavior, explicitly cast ints or floats to numeric type before calling to_datetime.\n",
      "  df['timestamp'] = pd.to_datetime(df['timestamp'], unit='ms')\n"
     ]
    },
    {
     "name": "stdout",
     "output_type": "stream",
     "text": [
      "  • Combined rows=3500\n",
      "✅ Saved Data to test the model\\TWTUSDT_15m_test.csv\n",
      "\n",
      "Processing UMAUSDT: history rows=65608\n",
      "  • Hist slice rows=2500 from 2025-03-26 18:45:00\n"
     ]
    },
    {
     "name": "stderr",
     "output_type": "stream",
     "text": [
      "C:\\Users\\GameReaper\\AppData\\Local\\Temp\\ipykernel_18344\\1874434021.py:12: FutureWarning: The behavior of 'to_datetime' with 'unit' when parsing strings is deprecated. In a future version, strings will be parsed as datetime strings, matching the behavior without a 'unit'. To retain the old behavior, explicitly cast ints or floats to numeric type before calling to_datetime.\n",
      "  df['timestamp'] = pd.to_datetime(df['timestamp'], unit='ms')\n"
     ]
    },
    {
     "name": "stdout",
     "output_type": "stream",
     "text": [
      "  • Combined rows=3500\n",
      "✅ Saved Data to test the model\\UMAUSDT_15m_test.csv\n",
      "\n",
      "Processing UNIUSDT: history rows=97231\n",
      "  • Hist slice rows=2500 from 2025-03-26 18:45:00\n",
      "  • Combined rows=3500\n",
      "✅ Saved Data to test the model\\UNIUSDT_15m_test.csv\n"
     ]
    },
    {
     "name": "stderr",
     "output_type": "stream",
     "text": [
      "C:\\Users\\GameReaper\\AppData\\Local\\Temp\\ipykernel_18344\\1874434021.py:12: FutureWarning: The behavior of 'to_datetime' with 'unit' when parsing strings is deprecated. In a future version, strings will be parsed as datetime strings, matching the behavior without a 'unit'. To retain the old behavior, explicitly cast ints or floats to numeric type before calling to_datetime.\n",
      "  df['timestamp'] = pd.to_datetime(df['timestamp'], unit='ms')\n"
     ]
    }
   ],
   "source": [
    "def main():\n",
    "    # load shape params\n",
    "    with open(\"BTC_model/shape_params.json\") as f:\n",
    "        params = json.load(f)\n",
    "    S = params[\"S\"]\n",
    "    F = params[\"F\"]\n",
    "    L = params[\"L\"]\n",
    "    future_steps = params[\"future_steps\"]\n",
    "\n",
    "    print(f\"Init model with sample_len={L}, future_steps={future_steps}\")\n",
    "    device = torch.device(\"cuda\" if torch.cuda.is_available() else \"cpu\")\n",
    "    model = ConvTCNModel(S, F, L, future_steps).to(device)\n",
    "\n",
    "    history = load_history(\"data\")\n",
    "\n",
    "    out_dir = \"Data to test the model\"\n",
    "    os.makedirs(out_dir, exist_ok=True)\n",
    "\n",
    "    for sym, df in history.items():\n",
    "        print(f\"\\nProcessing {sym}: history rows={len(df)}\")\n",
    "        last_ts = df.index.max()\n",
    "\n",
    "        # חיתוך היסטוריה\n",
    "        hist_slice = df.tail(L)\n",
    "        print(f\"  • Hist slice rows={len(hist_slice)} from {hist_slice.index.min()}\")\n",
    "\n",
    "        # הורדת חדש\n",
    "        new_df = fetch_new_data(sym, last_ts)\n",
    "        if new_df.empty:\n",
    "            print(f\"  • No new data for {sym}, skipping\")\n",
    "            continue\n",
    "\n",
    "        # הרכבה ושמירה\n",
    "        test_df = pd.concat([hist_slice, new_df]).sort_index().drop_duplicates()\n",
    "        print(f\"  • Combined rows={len(test_df)}\")\n",
    "        path = os.path.join(out_dir, f\"{sym}_15m_test.csv\")\n",
    "        test_df.to_csv(path)\n",
    "        print(f\"✅ Saved {path}\")\n",
    "\n",
    "if __name__ == \"__main__\":\n",
    "    main()"
   ]
  }
 ],
 "metadata": {
  "kernelspec": {
   "display_name": "Python 3",
   "language": "python",
   "name": "python3"
  },
  "language_info": {
   "codemirror_mode": {
    "name": "ipython",
    "version": 3
   },
   "file_extension": ".py",
   "mimetype": "text/x-python",
   "name": "python",
   "nbconvert_exporter": "python",
   "pygments_lexer": "ipython3",
   "version": "3.11.9"
  }
 },
 "nbformat": 4,
 "nbformat_minor": 5
}
