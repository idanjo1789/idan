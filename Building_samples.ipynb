{
 "cells": [
  {
   "cell_type": "code",
   "execution_count": 1,
   "id": "2397dfc5",
   "metadata": {},
   "outputs": [],
   "source": [
    "import os\n",
    "import pandas as pd\n",
    "import numpy as np\n",
    "from math import ceil"
   ]
  },
  {
   "cell_type": "code",
   "execution_count": 2,
   "id": "787f3c09",
   "metadata": {},
   "outputs": [],
   "source": [
    "def load_correlations(directory=\"correlation\"):\n",
    "    correlations = {}\n",
    "\n",
    "    for file in os.listdir(directory):\n",
    "        if file.endswith(\".csv\"):\n",
    "            feature = file.replace(\"correlation_matrix_\", \"\").replace(\".csv\", \"\")\n",
    "            path = os.path.join(directory, file)\n",
    "            try:\n",
    "                correlations[feature] = pd.read_csv(path, index_col=0)\n",
    "            except Exception as e:\n",
    "                print(f\"Error loading correlation {file}: {e}\")\n",
    "\n",
    "    return correlations\n",
    "\n",
    "\n",
    "def load_fft(directory=\"fft\"):\n",
    "    fft = {}\n",
    "\n",
    "    for file in os.listdir(directory):\n",
    "        if file.endswith(\".csv\"):\n",
    "            feature = file.replace(\"fft_matrix_\", \"\").replace(\".csv\", \"\")\n",
    "            path = os.path.join(directory, file)\n",
    "            try:\n",
    "                fft[feature] = pd.read_csv(path, index_col=0)\n",
    "            except Exception as e:\n",
    "                print(f\"Error loading FFT {file}: {e}\")\n",
    "\n",
    "    return fft\n"
   ]
  },
  {
   "cell_type": "code",
   "execution_count": 3,
   "id": "5e8428a6",
   "metadata": {},
   "outputs": [],
   "source": [
    "def calculate_samples(corr_df: pd.DataFrame | None, fft_df: pd.DataFrame) -> pd.DataFrame:\n",
    "    samples_df = pd.DataFrame(index=fft_df.index, columns=fft_df.columns, dtype=float)\n",
    "    for col in fft_df.columns:\n",
    "        for idx in fft_df.index:\n",
    "            fft_val = fft_df.at[idx, col]\n",
    "            if pd.isna(fft_val) or fft_val == 0:\n",
    "                samples_df.at[idx, col] = np.nan\n",
    "                continue\n",
    "            nyquist_fft = ceil(2 / fft_val)\n",
    "            if corr_df is None:\n",
    "                samples_df.at[idx, col] = nyquist_fft\n",
    "                continue\n",
    "            corr_val = corr_df.at[idx, col] if col in corr_df.columns else np.nan\n",
    "            if pd.isna(corr_val) or corr_val == 0:\n",
    "                samples_df.at[idx, col] = nyquist_fft\n",
    "                continue\n",
    "            nyquist_corr = ceil(2 / corr_val)\n",
    "            samples_df.at[idx, col] = max(nyquist_corr, nyquist_fft)\n",
    "    return samples_df\n",
    "\n",
    "def save_samples_files(corr_dict, fft_dict, output_dir=\"samples\"):\n",
    "    os.makedirs(output_dir, exist_ok=True)\n",
    "    for feature, corr_df in corr_dict.items():\n",
    "        fft_df = fft_dict.get(feature)\n",
    "        if fft_df is None:\n",
    "            print(f\"Missing FFT data for feature '{feature}', skipping.\")\n",
    "            continue\n",
    "        samples_df = calculate_samples(corr_df, fft_df)\n",
    "        file_path = os.path.join(output_dir, f\"samples_{feature}.csv\")\n",
    "        samples_df.to_csv(file_path, index=True)\n",
    "        print(f\"Saved {file_path}\")\n",
    "    # בדיקה של FFT ללא קורלציה (corr_df=None)\n",
    "    for feature, fft_df in fft_dict.items():\n",
    "        if feature not in corr_dict:\n",
    "            samples_df = calculate_samples(None, fft_df)\n",
    "            file_path = os.path.join(output_dir, f\"samples_{feature}.csv\")\n",
    "            samples_df.to_csv(file_path, index=True)\n",
    "            print(f\"Saved (no corr) {file_path}\")"
   ]
  },
  {
   "cell_type": "code",
   "execution_count": 4,
   "id": "09db54f5",
   "metadata": {},
   "outputs": [],
   "source": [
    "corr_dict = load_correlations()\n",
    "fft_dict = load_fft()\n"
   ]
  },
  {
   "cell_type": "code",
   "execution_count": 5,
   "id": "fa0451bd",
   "metadata": {},
   "outputs": [
    {
     "name": "stdout",
     "output_type": "stream",
     "text": [
      "Saved samples\\samples_close.csv\n",
      "Saved samples\\samples_high.csv\n",
      "Saved samples\\samples_low.csv\n",
      "Saved samples\\samples_open.csv\n",
      "Saved (no corr) samples\\samples_turnover.csv\n",
      "Saved (no corr) samples\\samples_volume.csv\n"
     ]
    }
   ],
   "source": [
    "save_samples_files(corr_dict, fft_dict)"
   ]
  }
 ],
 "metadata": {
  "kernelspec": {
   "display_name": "Python 3",
   "language": "python",
   "name": "python3"
  },
  "language_info": {
   "codemirror_mode": {
    "name": "ipython",
    "version": 3
   },
   "file_extension": ".py",
   "mimetype": "text/x-python",
   "name": "python",
   "nbconvert_exporter": "python",
   "pygments_lexer": "ipython3",
   "version": "3.12.0"
  }
 },
 "nbformat": 4,
 "nbformat_minor": 5
}
