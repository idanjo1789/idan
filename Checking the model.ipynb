{
 "cells": [
  {
   "cell_type": "code",
   "execution_count": 1,
   "id": "9aa9c895",
   "metadata": {},
   "outputs": [],
   "source": [
    "import os\n",
    "import json\n",
    "import pandas as pd\n",
    "import torch\n",
    "import torch.nn as nn\n",
    "from torch.utils.data import Dataset, DataLoader"
   ]
  },
  {
   "cell_type": "code",
   "execution_count": 2,
   "id": "7db8b36d",
   "metadata": {},
   "outputs": [],
   "source": [
    "def load_data(directory=\"Data to test the model\"):\n",
    "    required = {\"open\",\"high\",\"low\",\"close\",\"volume\",\"turnover\"}\n",
    "    data = {}\n",
    "    for fname in os.listdir(directory):\n",
    "        if not fname.endswith(\"_15m_test.csv\"):\n",
    "            continue\n",
    "        sym = fname.replace(\"_15m_test.csv\", \"\")\n",
    "        path = os.path.join(directory, fname)\n",
    "        try:\n",
    "            df = (\n",
    "                pd.read_csv(path, parse_dates=[\"timestamp\"])\n",
    "                .set_index(\"timestamp\")\n",
    "            )\n",
    "            if required.issubset(df.columns):\n",
    "                data[sym] = df\n",
    "        except Exception as e:\n",
    "            print(f\"Error loading {fname}: {e}\")\n",
    "    if not data:\n",
    "        raise RuntimeError(f\"No valid data in {directory}\")\n",
    "    return data"
   ]
  },
  {
   "cell_type": "code",
   "execution_count": 3,
   "id": "40f2da8b",
   "metadata": {},
   "outputs": [],
   "source": [
    "class SampleDataset(Dataset):\n",
    "    def __init__(self, data_dir, target, L, H,\n",
    "                 features=(\"open\",\"high\",\"low\",\"close\",\"volume\",\"turnover\")):\n",
    "        raw = load_data(data_dir)\n",
    "        syms = sorted(raw)\n",
    "        if target not in syms:\n",
    "            raise ValueError(f\"{target} not found in {syms}\")\n",
    "        self.feat = list(features)\n",
    "        # חתוך לכל הסימולים לאורך המינימלי\n",
    "        min_T = min(df.shape[0] for df in raw.values())\n",
    "        arr = torch.tensor(\n",
    "            [ raw[s][self.feat].values[-min_T:] for s in syms ],\n",
    "            dtype=torch.float32\n",
    "        )  # shape=(S, F, T)\n",
    "        self.data = arr\n",
    "        self.S, self.F, self.T = arr.shape\n",
    "        self.target_idx = syms.index(target)\n",
    "        self.close_idx  = self.feat.index(\"close\")\n",
    "        self.L, self.H = L, H\n",
    "        self.n = max(0, self.T - L - H + 1)\n",
    "\n",
    "    def __len__(self):\n",
    "        return self.n\n",
    "\n",
    "    def __getitem__(self, i):\n",
    "        x = self.data[:, :, i : i + self.L]           # [S, F, L]\n",
    "        seq = self.data[\n",
    "            self.target_idx, self.close_idx,\n",
    "            i + self.L : i + self.L + self.H\n",
    "        ]\n",
    "        # ממיר לתשואה לוגריתמית עם אפס בתחילה\n",
    "        prev, curr = seq[:-1], seq[1:]\n",
    "        ret = torch.log(curr / (prev + 1e-6))\n",
    "        y = torch.cat([torch.zeros(1), ret])         # length H\n",
    "        return x, y\n"
   ]
  },
  {
   "cell_type": "code",
   "execution_count": 4,
   "id": "7d0b3e04",
   "metadata": {},
   "outputs": [],
   "source": [
    "class ConvTCNModel(nn.Module):\n",
    "    def __init__(self, F, L, H):\n",
    "        super().__init__()\n",
    "        self.extractor = nn.Sequential(\n",
    "            nn.Conv1d(F, 32, 3, stride=2, padding=1), nn.ELU(),\n",
    "            nn.BatchNorm1d(32),\n",
    "            nn.Conv1d(32, 64, 3, stride=2, padding=1), nn.ELU(),\n",
    "            nn.BatchNorm1d(64),\n",
    "        )\n",
    "        self.seq_len = L // 4\n",
    "        self.tcn = nn.Sequential(\n",
    "            nn.Conv1d(64, 64, 3, padding=1), nn.ELU(), nn.BatchNorm1d(64),\n",
    "            nn.Conv1d(64, 64, 3, padding=1), nn.ELU(), nn.BatchNorm1d(64),\n",
    "        )\n",
    "        self.pool = nn.AdaptiveAvgPool1d(1)\n",
    "        self.fc = nn.Sequential(\n",
    "            nn.Linear(64, 128), nn.ELU(), nn.LayerNorm(128),\n",
    "            nn.Linear(128, H),\n",
    "        )\n",
    "\n",
    "    def forward(self, x):\n",
    "        B, S, F, L = x.shape\n",
    "        z = x.view(B * S, F, L)\n",
    "        z = self.extractor(z)\n",
    "        z = self.tcn(z)\n",
    "        z = z.view(B, S, 64, self.seq_len).mean(dim=1)\n",
    "        z = self.pool(z).squeeze(-1)\n",
    "        return self.fc(z)\n"
   ]
  },
  {
   "cell_type": "code",
   "execution_count": null,
   "id": "b0b2885f",
   "metadata": {},
   "outputs": [
    {
     "name": "stderr",
     "output_type": "stream",
     "text": [
      "C:\\Users\\GameReaper\\AppData\\Local\\Temp\\ipykernel_18060\\3731102922.py:11: UserWarning: Creating a tensor from a list of numpy.ndarrays is extremely slow. Please consider converting the list to a single numpy.ndarray with numpy.array() before converting to a tensor. (Triggered internally at ..\\torch\\csrc\\utils\\tensor_new.cpp:278.)\n",
      "  arr = torch.tensor(\n"
     ]
    },
    {
     "name": "stdout",
     "output_type": "stream",
     "text": [
      "אין דגימות לבחינה (n=0). בדוק sample_len ו-future_steps לאורך הנתונים.\n"
     ]
    }
   ],
   "source": [
    "if __name__ == \"__main__\":\n",
    "    # טען פרמטרים\n",
    "    cfg = json.load(open(\"BTC_model/shape_params.json\"))\n",
    "    F, L, H = cfg[\"F\"], cfg[\"L\"], cfg[\"future_steps\"]\n",
    "\n",
    "    # הכנת דאטה\n",
    "    ds = SampleDataset(\"Data to test the model\", \"BTCUSDT\", L, H)\n",
    "    loader = DataLoader(ds, batch_size=32, shuffle=False)\n",
    "\n",
    "    # טען מודל\n",
    "    device = torch.device(\"cuda\" if torch.cuda.is_available() else \"cpu\")\n",
    "    model = ConvTCNModel(F, L, H).to(device)\n",
    "    state = torch.load(\"BTC_model/model_BTC.pth\", map_location=device)\n",
    "    model.load_state_dict(state)\n",
    "    model.eval()\n",
    "\n",
    "    # הערכה\n",
    "    mse, total, count = nn.MSELoss(), 0.0, 0\n",
    "    with torch.no_grad():\n",
    "        for x, y in loader:\n",
    "            x, y = x.to(device), y.to(device)\n",
    "            preds = model(x)\n",
    "            total += mse(preds, y).item() * x.size(0)\n",
    "            count += x.size(0)\n",
    "\n",
    "    if count:\n",
    "        print(\"Test MSE =\", total / count)\n",
    "    else:\n",
    "        print(\"אין דגימות לבחינה (n=0). בדוק sample_len ו-future_steps לאורך הנתונים.\")\n",
    "\n"
   ]
  },
  {
   "cell_type": "code",
   "execution_count": 6,
   "id": "d0935ec2",
   "metadata": {},
   "outputs": [
    {
     "name": "stdout",
     "output_type": "stream",
     "text": [
      "['BTCUSDT_15m_test.csv', 'LTCUSDT_15m_test.csv', 'LUNA2USDT_15m_test.csv', 'MAGICUSDT_15m_test.csv', 'MANAUSDT_15m_test.csv', 'MASKUSDT_15m_test.csv', 'MAVUSDT_15m_test.csv', 'MBLUSDT_15m_test.csv', 'MDTUSDT_15m_test.csv', 'MINAUSDT_15m_test.csv', 'MKRUSDT_15m_test.csv', 'MTLUSDT_15m_test.csv', 'NEARUSDT_15m_test.csv', 'NKNUSDT_15m_test.csv', 'NMRUSDT_15m_test.csv', 'OGNUSDT_15m_test.csv', 'OGUSDT_15m_test.csv', 'OMGUSDT_15m_test.csv', 'ONEUSDT_15m_test.csv', 'ONTUSDT_15m_test.csv', 'OPUSDT_15m_test.csv', 'ORBSUSDT_15m_test.csv', 'ORDIUSDT_15m_test.csv', 'OXTUSDT_15m_test.csv', 'PAXGUSDT_15m_test.csv', 'PENDLEUSDT_15m_test.csv', 'PEOPLEUSDT_15m_test.csv', 'PERPUSDT_15m_test.csv', 'PHBUSDT_15m_test.csv', 'QNTUSDT_15m_test.csv', 'QTUMUSDT_15m_test.csv', 'RADUSDT_15m_test.csv', 'RDNTUSDT_15m_test.csv', 'REQUSDT_15m_test.csv', 'RLCUSDT_15m_test.csv', 'ROSEUSDT_15m_test.csv', 'RPLUSDT_15m_test.csv', 'RSRUSDT_15m_test.csv', 'RSS3USDT_15m_test.csv', 'RUNEUSDT_15m_test.csv', 'RVNUSDT_15m_test.csv', 'SANDUSDT_15m_test.csv', 'SCRTUSDT_15m_test.csv', 'SCUSDT_15m_test.csv', 'SEIUSDT_15m_test.csv', 'SFPUSDT_15m_test.csv', 'SHIB1000USDT_15m_test.csv', 'SKLUSDT_15m_test.csv', 'SLPUSDT_15m_test.csv', 'SPELLUSDT_15m_test.csv', 'SSVUSDT_15m_test.csv', 'STGUSDT_15m_test.csv', 'STORJUSDT_15m_test.csv', 'STPTUSDT_15m_test.csv', 'STXUSDT_15m_test.csv', 'SUIUSDT_15m_test.csv', 'SUNUSDT_15m_test.csv', 'SUSHIUSDT_15m_test.csv', 'SWEATUSDT_15m_test.csv', 'SXPUSDT_15m_test.csv', 'THETAUSDT_15m_test.csv', 'TLMUSDT_15m_test.csv', 'TONUSDT_15m_test.csv', 'TRBUSDT_15m_test.csv', 'TRUUSDT_15m_test.csv', 'TRXUSDT_15m_test.csv', 'TUSDT_15m_test.csv', 'TWTUSDT_15m_test.csv', 'UMAUSDT_15m_test.csv', 'UNIUSDT_15m_test.csv']\n"
     ]
    }
   ],
   "source": [
    "import os\n",
    "print(os.listdir(\"Data to test the model\"))\n"
   ]
  },
  {
   "cell_type": "code",
   "execution_count": null,
   "id": "cbc4cba1",
   "metadata": {},
   "outputs": [],
   "source": []
  }
 ],
 "metadata": {
  "kernelspec": {
   "display_name": "Python 3",
   "language": "python",
   "name": "python3"
  },
  "language_info": {
   "codemirror_mode": {
    "name": "ipython",
    "version": 3
   },
   "file_extension": ".py",
   "mimetype": "text/x-python",
   "name": "python",
   "nbconvert_exporter": "python",
   "pygments_lexer": "ipython3",
   "version": "3.11.9"
  }
 },
 "nbformat": 4,
 "nbformat_minor": 5
}
