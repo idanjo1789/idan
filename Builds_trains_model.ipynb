{
 "cells": [
  {
   "cell_type": "code",
   "execution_count": 1,
   "id": "85d4af0b",
   "metadata": {},
   "outputs": [],
   "source": [
    "import gc\n",
    "gc.collect()\n",
    "import torch\n",
    "torch.cuda.empty_cache()\n",
    "torch.cuda.ipc_collect()\n",
    "torch.cuda.reset_peak_memory_stats()\n",
    "#print(torch.cuda.memory_summary())"
   ]
  },
  {
   "cell_type": "code",
   "execution_count": 2,
   "id": "0dbb9d07",
   "metadata": {},
   "outputs": [],
   "source": [
    "import json\n",
    "import os\n",
    "import pandas as pd\n",
    "import torch\n",
    "from torch.utils.data import Dataset, DataLoader\n",
    "import torch.nn as nn\n",
    "from torch.optim import Adam\n",
    "import matplotlib.pyplot as plt\n",
    "from torch.cuda.amp import autocast, GradScaler\n",
    "from torchinfo import summary\n",
    "from torch.utils.data import random_split, DataLoader\n",
    "import torch.backends.cudnn as cudnn\n",
    "from torch.utils.checkpoint import checkpoint"
   ]
  },
  {
   "cell_type": "code",
   "execution_count": 3,
   "id": "b5257e82",
   "metadata": {},
   "outputs": [],
   "source": [
    "def load_data(directory=\"data\"):\n",
    "    data = {}\n",
    "    required_cols = {\"open\", \"high\", \"low\", \"close\", \"volume\", \"turnover\"}\n",
    "    for file in os.listdir(directory):\n",
    "        if file.endswith(\"_15m_full.csv\"):\n",
    "            symbol = file.replace(\"_15m_full.csv\", \"\")\n",
    "            path = os.path.join(directory, file)\n",
    "            try:\n",
    "                df = pd.read_csv(\n",
    "                    path,\n",
    "                    parse_dates=[\"timestamp\"],\n",
    "                    date_format=\"%Y-%m-%d %H:%M:%S\"\n",
    "                ).set_index(\"timestamp\")\n",
    "                if required_cols.issubset(df.columns):\n",
    "                    data[symbol] = df\n",
    "            except Exception as e:\n",
    "                print(f\"Error loading {file}: {e}\")\n",
    "    return data"
   ]
  },
  {
   "cell_type": "code",
   "execution_count": 4,
   "id": "bcac0bce",
   "metadata": {},
   "outputs": [],
   "source": [
    "def load_sample_sizes(directory=\"samples\"):\n",
    "    sample_sizes = {}\n",
    "    for file in os.listdir(directory):\n",
    "        if file.startswith(\"samples_\") and file.endswith(\".csv\"):\n",
    "            feature = file.replace(\"samples_\", \"\").replace(\".csv\", \"\")\n",
    "            path = os.path.join(directory, file)\n",
    "            try:\n",
    "                sample_sizes[feature] = pd.read_csv(path, index_col=0)\n",
    "            except Exception as e:\n",
    "                print(f\"Error loading {file}: {e}\")\n",
    "    return sample_sizes"
   ]
  },
  {
   "cell_type": "code",
   "execution_count": 5,
   "id": "9f844b16",
   "metadata": {},
   "outputs": [],
   "source": [
    "class SampleDataset(Dataset):\n",
    "    def __init__(\n",
    "        self,\n",
    "        data_dict: dict[str, pd.DataFrame],\n",
    "        sample_sizes_dict: dict[str, pd.DataFrame],\n",
    "        target_symbol: str,\n",
    "        default_samples: int = 2500,\n",
    "        future_steps: int = 100,\n",
    "        features: tuple[str, ...] = (\"open\",\"high\",\"low\",\"close\",\"volume\",\"turnover\"),\n",
    "    ):\n",
    "        # אורך חלונית דינמי\n",
    "        sizes_df = sample_sizes_dict.get(\"close\")\n",
    "        if target_symbol in sizes_df.index:\n",
    "            sample_len = int(sizes_df.loc[target_symbol, target_symbol]\n",
    "                            ) if pd.notna(sizes_df.loc[target_symbol, target_symbol]) else default_samples\n",
    "        else:\n",
    "            sample_len = default_samples\n",
    "\n",
    "        # סמלים עם מספיק נתונים\n",
    "        valid = [s for s, df in data_dict.items()\n",
    "                if len(df) >= sample_len + future_steps]\n",
    "        if target_symbol not in valid:\n",
    "            raise ValueError(f\"Not enough data for {target_symbol}\")\n",
    "\n",
    "        # חתך משותף לכל הסמלים\n",
    "        timeline = min(len(data_dict[s]) for s in valid)\n",
    "\n",
    "        # שמירת פרמטרים\n",
    "        self.sample_len = sample_len\n",
    "        self.future_steps = future_steps\n",
    "        self.target_idx = valid.index(target_symbol)\n",
    "        self.close_idx = features.index(\"close\")\n",
    "\n",
    "        # בניית טנסורים ונרמול z‑score\n",
    "        tensors = []\n",
    "        for s in valid:\n",
    "            arr = torch.stack([\n",
    "                torch.tensor(data_dict[s][feat].values[:timeline], dtype=torch.float32)\n",
    "                for feat in features\n",
    "            ])  # [F, timeline]\n",
    "            mean = arr.mean(dim=1, keepdim=True)\n",
    "            std  = arr.std(dim=1, keepdim=True)\n",
    "            tensors.append((arr - mean) / (std + 1e-6))\n",
    "        self.data = torch.stack(tensors)  # [S, F, timeline]\n",
    "        self.num_samples = timeline - (sample_len + future_steps)\n",
    "\n",
    "    def __len__(self):\n",
    "        return self.num_samples\n",
    "\n",
    "    def __getitem__(self, idx):\n",
    "        # X: [S, F, L]\n",
    "        x = self.data[:, :, idx : idx + self.sample_len]\n",
    "\n",
    "        # close sequence עתידי\n",
    "        close_seq = self.data[\n",
    "            self.target_idx, self.close_idx,\n",
    "            idx + self.sample_len : idx + self.sample_len + self.future_steps\n",
    "        ]  # [future_steps]\n",
    "\n",
    "        # לוג‑ריטורנס: log(p_t / p_{t-1})\n",
    "        prev = close_seq[:-1]\n",
    "        curr = close_seq[1:]\n",
    "        log_ret = torch.log(curr / (prev + 1e-6))\n",
    "        y = torch.cat([torch.tensor([0.], dtype=log_ret.dtype), log_ret], dim=0)  # [future_steps]\n",
    "\n",
    "        return x, y"
   ]
  },
  {
   "cell_type": "code",
   "execution_count": 6,
   "id": "caa083aa",
   "metadata": {},
   "outputs": [],
   "source": [
    "data_dict = load_data()\n",
    "sample_sizes = load_sample_sizes()"
   ]
  },
  {
   "cell_type": "code",
   "execution_count": 7,
   "id": "66541640",
   "metadata": {},
   "outputs": [],
   "source": [
    "dataset = SampleDataset(data_dict, sample_sizes, target_symbol=\"BTCUSDT\")"
   ]
  },
  {
   "cell_type": "code",
   "execution_count": 8,
   "id": "90e66b19",
   "metadata": {},
   "outputs": [
    {
     "name": "stdout",
     "output_type": "stream",
     "text": [
      "Size of dataset: 47725\n"
     ]
    }
   ],
   "source": [
    "print(\"Size of dataset:\", len(dataset))"
   ]
  },
  {
   "cell_type": "code",
   "execution_count": 9,
   "id": "d9042cfe",
   "metadata": {},
   "outputs": [
    {
     "name": "stdout",
     "output_type": "stream",
     "text": [
      "batch x: torch.Size([32, 70, 6, 2500]), y: torch.Size([32, 100])\n"
     ]
    }
   ],
   "source": [
    "train_n = int(0.75 * len(dataset))\n",
    "test_n  = len(dataset) - train_n\n",
    "train_ds, test_ds = random_split(dataset, [train_n, test_n])\n",
    "\n",
    "train_loader = DataLoader(train_ds, batch_size=32, shuffle=True)\n",
    "test_loader  = DataLoader(test_ds,  batch_size=32, shuffle=False)\n",
    "\n",
    "# דוגמה לבדיקה\n",
    "x, y = next(iter(train_loader))\n",
    "B, S, F, L = x.shape\n",
    "future_steps = y.shape[1]\n",
    "print(f\"batch x: {x.shape}, y: {y.shape}\")"
   ]
  },
  {
   "cell_type": "code",
   "execution_count": null,
   "id": "81a5ad0b",
   "metadata": {},
   "outputs": [],
   "source": [
    "class ConvTCNModel(nn.Module):\n",
    "    def __init__(self, num_symbols, num_features, sample_len, future_steps):\n",
    "        super().__init__()\n",
    "        # extractor חותך לאורך ב־4 פעמים\n",
    "        self.extractor = nn.Sequential(\n",
    "            nn.Conv1d(num_features, 32, 3, stride=2, padding=1),\n",
    "            nn.ELU(),\n",
    "            nn.BatchNorm1d(32),\n",
    "            nn.Conv1d(32, 64, 3, stride=2, padding=1),\n",
    "            nn.ELU(),\n",
    "            nn.BatchNorm1d(64),\n",
    "        )\n",
    "        self.seq_len = sample_len // 4\n",
    "\n",
    "        # בלוק TCN\n",
    "        self.tcn = nn.Sequential(\n",
    "            nn.Conv1d(64, 64, 3, padding=1, dilation=1),\n",
    "            nn.ELU(),\n",
    "            nn.BatchNorm1d(64),\n",
    "            nn.Conv1d(64, 64, 3, padding=1, dilation=1),\n",
    "            nn.ELU(),\n",
    "            nn.BatchNorm1d(64),\n",
    "        )\n",
    "\n",
    "        # Pool ו־FC\n",
    "        self.pool = nn.AdaptiveAvgPool1d(1)\n",
    "        self.fc   = nn.Sequential(\n",
    "            nn.Linear(64, 128),\n",
    "            nn.ELU(),\n",
    "            nn.LayerNorm(128),\n",
    "            nn.Linear(128, future_steps),\n",
    "        )\n",
    "\n",
    "    def forward(self, x):\n",
    "        # x: [B, S, F, L]\n",
    "        B, S, F, L = x.size()\n",
    "        z = x.view(B * S, F, L)\n",
    "        z = self.extractor(z)      # [B*S,64,L/4]\n",
    "        z = self.tcn(z)            # [B*S,64,L/4]\n",
    "        z = z.view(B, S, 64, self.seq_len).mean(dim=1)  # [B,64,L/4]\n",
    "        z = self.pool(z).squeeze(-1)                    # [B,64]\n",
    "        return self.fc(z)                              # [B,future_steps]\n"
   ]
  },
  {
   "cell_type": "code",
   "execution_count": 11,
   "id": "0c54c7f1",
   "metadata": {},
   "outputs": [],
   "source": [
    "def profit_loss(pred, actual):\n",
    "    # maximize profit: negative mean profit\n",
    "    returns = (actual[:,1:] - actual[:,:-1]) / actual[:,:-1]\n",
    "    signals = torch.sign(pred[:,1:] - pred[:,:-1])\n",
    "    profit = (signals * returns).sum(dim=1)\n",
    "    return -profit.mean()"
   ]
  },
  {
   "cell_type": "code",
   "execution_count": 12,
   "id": "8cfd25d3",
   "metadata": {},
   "outputs": [],
   "source": [
    "mse_fn = nn.MSELoss()\n",
    "def mse_loss(pred, actual):\n",
    "    return mse_fn(pred, actual)\n",
    "\n",
    "def train_model(\n",
    "    model,\n",
    "    train_loader,\n",
    "    val_loader,\n",
    "    device,\n",
    "    epochs=10,\n",
    "    lr=1e-3,\n",
    "    accumulation_steps=1,\n",
    "    use_amp=True,\n",
    "    use_checkpoint=False\n",
    "):\n",
    "    model.to(device)\n",
    "    optimizer = Adam(model.parameters(), lr=lr)\n",
    "    scaler = GradScaler() if use_amp else None\n",
    "\n",
    "    train_losses, val_losses = [], []\n",
    "\n",
    "    for epoch in range(1, epochs + 1):\n",
    "        # אימון\n",
    "        model.train()\n",
    "        running_train = 0.0\n",
    "        optimizer.zero_grad()\n",
    "        total_batches = 0\n",
    "\n",
    "        for idx, (x, y) in enumerate(train_loader, start=1):\n",
    "            x, y = x.to(device), y.to(device)\n",
    "            y = torch.nan_to_num(y, nan=0.0, posinf=0.0, neginf=0.0)\n",
    "\n",
    "            def forward_fn(inp):\n",
    "                return model(inp)\n",
    "\n",
    "            # forward + backward\n",
    "            if use_checkpoint:\n",
    "                if use_amp:\n",
    "                    with autocast():\n",
    "                        preds = checkpoint(forward_fn, x)\n",
    "                        loss = mse_loss(preds, y)\n",
    "                    scaler.scale(loss).backward()\n",
    "                else:\n",
    "                    preds = checkpoint(forward_fn, x)\n",
    "                    loss = mse_loss(preds, y)\n",
    "                    loss.backward()\n",
    "            else:\n",
    "                if use_amp:\n",
    "                    with autocast():\n",
    "                        preds = model(x)\n",
    "                        loss = mse_loss(preds, y)\n",
    "                    scaler.scale(loss).backward()\n",
    "                else:\n",
    "                    preds = model(x)\n",
    "                    loss = mse_loss(preds, y)\n",
    "                    loss.backward()\n",
    "\n",
    "            # עדכון אקוחלצית\n",
    "            if idx % accumulation_steps == 0:\n",
    "                if use_amp:\n",
    "                    scaler.step(optimizer)\n",
    "                    scaler.update()\n",
    "                else:\n",
    "                    optimizer.step()\n",
    "                optimizer.zero_grad()\n",
    "\n",
    "            running_train += loss.item()\n",
    "            total_batches += 1\n",
    "\n",
    "        # step אחרון אם צריך\n",
    "        if total_batches % accumulation_steps != 0:\n",
    "            if use_amp:\n",
    "                scaler.step(optimizer)\n",
    "                scaler.update()\n",
    "            else:\n",
    "                optimizer.step()\n",
    "            optimizer.zero_grad()\n",
    "\n",
    "        train_losses.append(running_train / total_batches)\n",
    "\n",
    "        # ולידציה\n",
    "        model.eval()\n",
    "        running_val = 0.0\n",
    "        with torch.no_grad():\n",
    "            for x_val, y_val in val_loader:\n",
    "                x_val, y_val = x_val.to(device), y_val.to(device)\n",
    "                y_val = torch.nan_to_num(y_val, nan=0.0, posinf=0.0, neginf=0.0)\n",
    "\n",
    "                if use_amp:\n",
    "                    with autocast():\n",
    "                        preds_val = model(x_val)\n",
    "                        loss_val = mse_loss(preds_val, y_val)\n",
    "                else:\n",
    "                    preds_val = model(x_val)\n",
    "                    loss_val = mse_loss(preds_val, y_val)\n",
    "\n",
    "                running_val += loss_val.item()\n",
    "\n",
    "        val_losses.append(running_val / len(val_loader))\n",
    "\n",
    "        print(f\"Epoch {epoch}/{epochs} — Train: {train_losses[-1]:.4f} — Val: {val_losses[-1]:.4f}\")\n",
    "\n",
    "    return model, train_losses, val_losses\n",
    "\n",
    "\n",
    "\n",
    "\n",
    "\n",
    "\n",
    "\n"
   ]
  },
  {
   "cell_type": "code",
   "execution_count": 13,
   "id": "e4bb3c31",
   "metadata": {},
   "outputs": [],
   "source": [
    "device = torch.device('cuda' if torch.cuda.is_available() else 'cpu')"
   ]
  },
  {
   "cell_type": "code",
   "execution_count": 14,
   "id": "6066926e",
   "metadata": {},
   "outputs": [],
   "source": [
    "model = ConvTCNModel(num_symbols=S,num_features=F,sample_len=L,future_steps=future_steps,).to(device)\n",
    "optimizer = Adam(model.parameters(), lr=0.001)"
   ]
  },
  {
   "cell_type": "code",
   "execution_count": 15,
   "id": "0cad00be",
   "metadata": {},
   "outputs": [
    {
     "data": {
      "text/plain": [
       "==========================================================================================\n",
       "Layer (type:depth-idx)                   Output Shape              Param #\n",
       "==========================================================================================\n",
       "ConvTCNModel                             [32, 100]                 --\n",
       "├─Sequential: 1-1                        [2240, 64, 625]           --\n",
       "│    └─Conv1d: 2-1                       [2240, 32, 1250]          608\n",
       "│    └─ELU: 2-2                          [2240, 32, 1250]          --\n",
       "│    └─BatchNorm1d: 2-3                  [2240, 32, 1250]          64\n",
       "│    └─Conv1d: 2-4                       [2240, 64, 625]           6,208\n",
       "│    └─ELU: 2-5                          [2240, 64, 625]           --\n",
       "│    └─BatchNorm1d: 2-6                  [2240, 64, 625]           128\n",
       "├─Sequential: 1-2                        [2240, 64, 625]           --\n",
       "│    └─Conv1d: 2-7                       [2240, 64, 625]           12,352\n",
       "│    └─ELU: 2-8                          [2240, 64, 625]           --\n",
       "│    └─BatchNorm1d: 2-9                  [2240, 64, 625]           128\n",
       "│    └─Conv1d: 2-10                      [2240, 64, 625]           12,352\n",
       "│    └─ELU: 2-11                         [2240, 64, 625]           --\n",
       "│    └─BatchNorm1d: 2-12                 [2240, 64, 625]           128\n",
       "├─AdaptiveAvgPool1d: 1-3                 [32, 64, 1]               --\n",
       "├─Sequential: 1-4                        [32, 100]                 --\n",
       "│    └─Linear: 2-13                      [32, 128]                 8,320\n",
       "│    └─ELU: 2-14                         [32, 128]                 --\n",
       "│    └─LayerNorm: 2-15                   [32, 128]                 256\n",
       "│    └─Linear: 2-16                      [32, 100]                 12,900\n",
       "==========================================================================================\n",
       "Total params: 53,444\n",
       "Trainable params: 53,444\n",
       "Non-trainable params: 0\n",
       "Total mult-adds (Units.GIGABYTES): 44.98\n",
       "==========================================================================================\n",
       "Input size (MB): 134.40\n",
       "Forward/backward pass size (MB): 5734.49\n",
       "Params size (MB): 0.21\n",
       "Estimated Total Size (MB): 5869.10\n",
       "=========================================================================================="
      ]
     },
     "execution_count": 15,
     "metadata": {},
     "output_type": "execute_result"
    }
   ],
   "source": [
    "summary(model,input_size=x.shape,device=device)"
   ]
  },
  {
   "cell_type": "code",
   "execution_count": 16,
   "id": "b4d756ce",
   "metadata": {},
   "outputs": [
    {
     "name": "stdout",
     "output_type": "stream",
     "text": [
      "pred: tensor([ 0.3962,  1.3288,  1.1553,  0.5854, -0.4520], device='cuda:0')\n",
      "actual: tensor([ 0.0000,  0.0201,  0.0200, -0.0039, -0.0059], device='cuda:0')\n",
      "mse_loss: 0.37673598527908325\n"
     ]
    }
   ],
   "source": [
    "device = torch.device('cuda' if torch.cuda.is_available() else 'cpu')\n",
    "model.to(device)\n",
    "model.eval()\n",
    "cudnn.benchmark = True  \n",
    "with torch.no_grad():\n",
    "    x, y = next(iter(train_loader))\n",
    "    x, y = x.to(device), y.to(device)\n",
    "    pred0 = model(x)\n",
    "    print('pred:', pred0[0, :5])\n",
    "    print('actual:', y[0, :5])\n",
    "    print('mse_loss:', mse_fn(pred0, y).item())\n"
   ]
  },
  {
   "cell_type": "code",
   "execution_count": 17,
   "id": "e6442d72",
   "metadata": {},
   "outputs": [
    {
     "name": "stdout",
     "output_type": "stream",
     "text": [
      "Epoch 1/35 — Train: 0.3443 — Val: 0.2944\n",
      "Epoch 2/35 — Train: 0.2602 — Val: 0.2253\n",
      "Epoch 3/35 — Train: 0.2056 — Val: 0.1842\n",
      "Epoch 4/35 — Train: 0.1714 — Val: 0.1551\n",
      "Epoch 5/35 — Train: 0.1455 — Val: 0.1329\n",
      "Epoch 6/35 — Train: 0.1253 — Val: 0.1144\n",
      "Epoch 7/35 — Train: 0.1089 — Val: 0.0995\n",
      "Epoch 8/35 — Train: 0.0951 — Val: 0.0863\n",
      "Epoch 9/35 — Train: 0.0837 — Val: 0.0767\n",
      "Epoch 10/35 — Train: 0.0740 — Val: 0.0681\n",
      "Epoch 11/35 — Train: 0.0654 — Val: 0.0602\n",
      "Epoch 12/35 — Train: 0.0579 — Val: 0.0531\n",
      "Epoch 13/35 — Train: 0.0517 — Val: 0.0470\n",
      "Epoch 14/35 — Train: 0.0459 — Val: 0.0416\n",
      "Epoch 15/35 — Train: 0.0408 — Val: 0.0374\n",
      "Epoch 16/35 — Train: 0.0364 — Val: 0.0331\n",
      "Epoch 17/35 — Train: 0.0325 — Val: 0.0294\n",
      "Epoch 18/35 — Train: 0.0291 — Val: 0.0273\n",
      "Epoch 19/35 — Train: 0.0259 — Val: 0.0234\n",
      "Epoch 20/35 — Train: 0.0232 — Val: 0.0209\n",
      "Epoch 21/35 — Train: 0.0209 — Val: 0.0195\n",
      "Epoch 22/35 — Train: 0.0187 — Val: 0.0176\n",
      "Epoch 23/35 — Train: 0.0168 — Val: 0.0154\n",
      "Epoch 24/35 — Train: 0.0151 — Val: 0.0144\n",
      "Epoch 25/35 — Train: 0.0136 — Val: 0.0125\n",
      "Epoch 26/35 — Train: 0.0123 — Val: 0.0117\n",
      "Epoch 27/35 — Train: 0.0112 — Val: 0.0103\n",
      "Epoch 28/35 — Train: 0.0101 — Val: 0.0093\n",
      "Epoch 29/35 — Train: 0.0092 — Val: 0.0087\n",
      "Epoch 30/35 — Train: 0.0085 — Val: 0.0078\n",
      "Epoch 31/35 — Train: 0.0078 — Val: 0.0072\n",
      "Epoch 32/35 — Train: 0.0072 — Val: 0.0068\n",
      "Epoch 33/35 — Train: 0.0067 — Val: 0.0063\n",
      "Epoch 34/35 — Train: 0.0063 — Val: 0.0060\n",
      "Epoch 35/35 — Train: 0.0060 — Val: 0.0056\n"
     ]
    }
   ],
   "source": [
    "model_BTC, train_losses, val_losses = train_model(model,train_loader, test_loader, device, epochs=35, lr=0.000001, accumulation_steps=4, use_amp=True)"
   ]
  },
  {
   "cell_type": "code",
   "execution_count": 18,
   "id": "273d71a3",
   "metadata": {},
   "outputs": [],
   "source": [
    "def plot_loss(train_losses, val_losses):\n",
    "    epochs = range(1, len(train_losses) + 1)\n",
    "    plt.figure()\n",
    "    plt.plot(epochs, train_losses, marker='o', label='Train Loss')\n",
    "    plt.plot(epochs, val_losses,   marker='o', label='Val Loss')\n",
    "    plt.xlabel('Epoch')\n",
    "    plt.ylabel('Loss')\n",
    "    plt.title('Training & Validation Loss')\n",
    "    plt.legend()\n",
    "    plt.grid(True)\n",
    "    plt.show()"
   ]
  },
  {
   "cell_type": "code",
   "execution_count": 19,
   "id": "f60893c2",
   "metadata": {},
   "outputs": [
    {
     "data": {
      "image/png": "[encoded data removed]",
      "text/plain": [
       "<Figure size 640x480 with 1 Axes>"
      ]
     },
     "metadata": {},
     "output_type": "display_data"
    }
   ],
   "source": [
    "plot_loss(train_losses,val_losses)"
   ]
  },
  {
   "cell_type": "code",
   "execution_count": 20,
   "id": "d9924360",
   "metadata": {},
   "outputs": [],
   "source": [
    "params = {\"B\":B, \"S\":S, \"F\":F, \"L\":L, \"future_steps\":future_steps}\n",
    "with open(\"BTC_model/shape_params.json\",\"w\") as f:\n",
    "    json.dump(params, f)"
   ]
  },
  {
   "cell_type": "code",
   "execution_count": 21,
   "id": "09fda3bf",
   "metadata": {},
   "outputs": [],
   "source": [
    "torch.save(model_BTC.state_dict(), \"BTC_model/model_BTC.pth\")"
   ]
  }
 ],
 "metadata": {
  "kernelspec": {
   "display_name": "Python 3",
   "language": "python",
   "name": "python3"
  },
  "language_info": {
   "codemirror_mode": {
    "name": "ipython",
    "version": 3
   },
   "file_extension": ".py",
   "mimetype": "text/x-python",
   "name": "python",
   "nbconvert_exporter": "python",
   "pygments_lexer": "ipython3",
   "version": "3.11.9"
  }
 },
 "nbformat": 4,
 "nbformat_minor": 5
}
