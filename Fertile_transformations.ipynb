{
 "cells": [
  {
   "cell_type": "code",
   "execution_count": 13,
   "metadata": {},
   "outputs": [],
   "source": [
    "import os\n",
    "import pandas as pd\n",
    "import matplotlib.pyplot as plt\n",
    "import numpy as np \n",
    "from scipy.fftpack import fft, ifft, fftfreq\n",
    "import csv\n"
   ]
  },
  {
   "cell_type": "code",
   "execution_count": 14,
   "metadata": {},
   "outputs": [],
   "source": [
    "def get_symbols_from_directory(directory):\n",
    "    all_files = [f for f in os.listdir(directory) if f.endswith(\".csv\")]\n",
    "    symbols = [file.replace(\"_15m_data.csv\", \"\") for file in all_files]\n",
    "    return symbols"
   ]
  },
  {
   "cell_type": "code",
   "execution_count": null,
   "metadata": {},
   "outputs": [],
   "source": [
    "def load_data(directory=\"data\"):\n",
    "    data = {}\n",
    "    for file in os.listdir(directory):\n",
    "        if file.endswith(\".csv\"):\n",
    "            symbol = file.replace(\"_15m_data.csv\", \"\")\n",
    "            path = os.path.join(directory, file)\n",
    "            df = pd.read_csv(path, parse_dates=['timestamp']).set_index('timestamp')\n",
    "            \n",
    "            required_columns = {\"open\", \"high\", \"low\", \"close\", \"volume\", \"turnover\"}\n",
    "            if required_columns.issubset(df.columns):\n",
    "                data[symbol] = df\n",
    "    return data"
   ]
  },
  {
   "cell_type": "code",
   "execution_count": 16,
   "metadata": {},
   "outputs": [],
   "source": [
    "def compute_fft(signal, sample_rate=None):\n",
    "    N = len(signal)\n",
    "    sample_rate = sample_rate or N\n",
    "\n",
    "    # הסרת התוחלת מהסיגנל\n",
    "    signal = signal - np.mean(signal)\n",
    "\n",
    "    # ריפוד לחזקה הקרובה של 2\n",
    "    N_padded = 2 ** (N - 1).bit_length()\n",
    "    padded_signal = np.pad(signal, (0, N_padded - N), mode='constant')\n",
    "\n",
    "    fft_values = fft(padded_signal)\n",
    "    freqs = fftfreq(N_padded, d=1/sample_rate)\n",
    "    \n",
    "    return freqs, fft_values\n"
   ]
  },
  {
   "cell_type": "code",
   "execution_count": 17,
   "metadata": {},
   "outputs": [],
   "source": [
    "def find_cutoff_frequency(freqs, fft_values, energy_ratio):\n",
    "    power_spectrum = np.abs(fft_values) ** 2\n",
    "    sorted_indices = np.argsort(freqs)\n",
    "    sorted_power = power_spectrum[sorted_indices]\n",
    "    \n",
    "    total_energy = np.sum(sorted_power)\n",
    "    cumulative_energy = np.cumsum(sorted_power)\n",
    "    \n",
    "    cutoff_index = np.searchsorted(cumulative_energy, energy_ratio * total_energy)\n",
    "    cutoff_freq = freqs[sorted_indices][cutoff_index]\n",
    "    \n",
    "    return cutoff_freq"
   ]
  },
  {
   "cell_type": "code",
   "execution_count": 18,
   "metadata": {},
   "outputs": [],
   "source": [
    "def filter_fft(freqs, fft_values, cutoff_frequency):\n",
    "    fft_filtered = fft_values.copy()\n",
    "    fft_filtered[np.abs(freqs) > cutoff_frequency] = 0\n",
    "    filtered_signal = np.real(ifft(fft_filtered))\n",
    "    \n",
    "    return filtered_signal\n"
   ]
  },
  {
   "cell_type": "code",
   "execution_count": 19,
   "metadata": {},
   "outputs": [],
   "source": [
    "def plot_signal(signal, title, xlabel='Time', ylabel='Value'):\n",
    "    plt.figure(figsize=(12, 6))\n",
    "    plt.plot(signal, color='blue')\n",
    "    plt.title(title)\n",
    "    plt.xlabel(xlabel)\n",
    "    plt.ylabel(ylabel)\n",
    "    plt.grid(True)\n",
    "    plt.show()"
   ]
  },
  {
   "cell_type": "code",
   "execution_count": 20,
   "metadata": {},
   "outputs": [],
   "source": [
    "def plot_fft(freqs, fft_values, title):\n",
    "    plt.figure(figsize=(12, 6))\n",
    "    plt.plot(freqs[:len(freqs)//2], np.abs(fft_values)[:len(fft_values)//2], color='red')\n",
    "    plt.title(title)\n",
    "    plt.xlabel('Frequency (Hz)')\n",
    "    plt.ylabel('Magnitude')\n",
    "    plt.grid(True)\n",
    "    plt.show()"
   ]
  },
  {
   "cell_type": "code",
   "execution_count": 24,
   "metadata": {},
   "outputs": [
    {
     "name": "stdout",
     "output_type": "stream",
     "text": [
      "500500\n"
     ]
    },
    {
     "data": {
      "image/png": "[encoded data removed]",
      "text/plain": [
       "<Figure size 1200x600 with 1 Axes>"
      ]
     },
     "metadata": {},
     "output_type": "display_data"
    },
    {
     "name": "stdout",
     "output_type": "stream",
     "text": [
      "Cutoff Frequency: 2753.14712524414\n"
     ]
    }
   ],
   "source": [
    "data = load_data(\"data\")\n",
    "btc_data = data[\"BTCUSDT\"][\"close\"].values\n",
    "print(len(btc_data))\n",
    "    # שלב 1: FFTדד\n",
    "freqs, fft_values = compute_fft(btc_data)\n",
    "plot_fft(freqs, fft_values, \"FFT of BTCUSDT Closing Prices\")\n",
    "\n",
    "    # שלב 2: מציאת תדר חיתוך\n",
    "cutoff_frequency = find_cutoff_frequency(freqs, fft_values, energy_ratio=0.9)\n",
    "print(f\"Cutoff Frequency: {cutoff_frequency}\")\n",
    "\n",
    "    # שלב 3: סינון ושחזור הסיגנל\n",
    "#filtered_signal = filter_fft(freqs, fft_values, cutoff_frequency)\n",
    "#plot_signal(filtered_signal, \"Filtered Signal of BTCUSDT Closing Prices\")"
   ]
  },
  {
   "cell_type": "code",
   "execution_count": 25,
   "metadata": {},
   "outputs": [],
   "source": [
    "features = [\"open\", \"high\", \"low\",\"close\", \"volume\", \"turnover\"]\n",
    "data_to_save = []\n",
    "symbols = get_symbols_from_directory(\"data\")\n",
    "\n",
    "for symbol in symbols:\n",
    "    row = [symbol]  # שם הסימבול\n",
    "    symbol_data = data[symbol]  # מביאים את הדאטה לפי השם\n",
    "    for feature in features:\n",
    "        freqs, fft_values = compute_fft(symbol_data[feature])\n",
    "        #print(len(symbol_data[feature]))\n",
    "        cutoff_frequency = find_cutoff_frequency(freqs, fft_values, energy_ratio=0.9)\n",
    "        row.append(round(cutoff_frequency)*2)\n",
    "        #if feature == \"volume\" or feature == \"turnover\"\n",
    "    data_to_save.append(row)\n",
    "\n",
    "# כתיבה ל־CSV\n",
    "csv_filename = \"symbols_cutoff_frequencies.csv\"\n",
    "with open(csv_filename, mode=\"w\", newline=\"\") as file:\n",
    "    writer = csv.writer(file)\n",
    "    writer.writerow([\"Symbol\"] + features)\n",
    "    writer.writerows(data_to_save)\n"
   ]
  }
 ],
 "metadata": {
  "kernelspec": {
   "display_name": "Python 3",
   "language": "python",
   "name": "python3"
  },
  "language_info": {
   "codemirror_mode": {
    "name": "ipython",
    "version": 3
   },
   "file_extension": ".py",
   "mimetype": "text/x-python",
   "name": "python",
   "nbconvert_exporter": "python",
   "pygments_lexer": "ipython3",
   "version": "3.12.0"
  }
 },
 "nbformat": 4,
 "nbformat_minor": 2
}
